{
  "nbformat": 4,
  "nbformat_minor": 0,
  "metadata": {
    "colab": {
      "name": "DanceForms2.ipynb",
      "provenance": [],
      "collapsed_sections": [],
      "authorship_tag": "ABX9TyMPMIkfcGdZgr3cPkUGeh2m",
      "include_colab_link": true
    },
    "kernelspec": {
      "name": "python3",
      "display_name": "Python 3"
    },
    "widgets": {
      "application/vnd.jupyter.widget-state+json": {
        "2d7ec90c9ff54cc69ba5a9ec89716c8c": {
          "model_module": "@jupyter-widgets/controls",
          "model_name": "HBoxModel",
          "state": {
            "_view_name": "HBoxView",
            "_dom_classes": [],
            "_model_name": "HBoxModel",
            "_view_module": "@jupyter-widgets/controls",
            "_model_module_version": "1.5.0",
            "_view_count": null,
            "_view_module_version": "1.5.0",
            "box_style": "",
            "layout": "IPY_MODEL_4f3569d066a54fa689f862df5376d88d",
            "_model_module": "@jupyter-widgets/controls",
            "children": [
              "IPY_MODEL_2b68c52916f0405687bd9f012fa10cc4",
              "IPY_MODEL_aaaf152515c746e9a15ed91e2010aab9"
            ]
          }
        },
        "4f3569d066a54fa689f862df5376d88d": {
          "model_module": "@jupyter-widgets/base",
          "model_name": "LayoutModel",
          "state": {
            "_view_name": "LayoutView",
            "grid_template_rows": null,
            "right": null,
            "justify_content": null,
            "_view_module": "@jupyter-widgets/base",
            "overflow": null,
            "_model_module_version": "1.2.0",
            "_view_count": null,
            "flex_flow": null,
            "width": null,
            "min_width": null,
            "border": null,
            "align_items": null,
            "bottom": null,
            "_model_module": "@jupyter-widgets/base",
            "top": null,
            "grid_column": null,
            "overflow_y": null,
            "overflow_x": null,
            "grid_auto_flow": null,
            "grid_area": null,
            "grid_template_columns": null,
            "flex": null,
            "_model_name": "LayoutModel",
            "justify_items": null,
            "grid_row": null,
            "max_height": null,
            "align_content": null,
            "visibility": null,
            "align_self": null,
            "height": null,
            "min_height": null,
            "padding": null,
            "grid_auto_rows": null,
            "grid_gap": null,
            "max_width": null,
            "order": null,
            "_view_module_version": "1.2.0",
            "grid_template_areas": null,
            "object_position": null,
            "object_fit": null,
            "grid_auto_columns": null,
            "margin": null,
            "display": null,
            "left": null
          }
        },
        "2b68c52916f0405687bd9f012fa10cc4": {
          "model_module": "@jupyter-widgets/controls",
          "model_name": "FloatProgressModel",
          "state": {
            "_view_name": "ProgressView",
            "style": "IPY_MODEL_d3075cf1af5e4cd3950ffbf5463fe7c2",
            "_dom_classes": [],
            "description": "100%",
            "_model_name": "FloatProgressModel",
            "bar_style": "success",
            "max": 46827520,
            "_view_module": "@jupyter-widgets/controls",
            "_model_module_version": "1.5.0",
            "value": 46827520,
            "_view_count": null,
            "_view_module_version": "1.5.0",
            "orientation": "horizontal",
            "min": 0,
            "description_tooltip": null,
            "_model_module": "@jupyter-widgets/controls",
            "layout": "IPY_MODEL_7542fa0dbfca44f0b2fd40efe6a830a6"
          }
        },
        "aaaf152515c746e9a15ed91e2010aab9": {
          "model_module": "@jupyter-widgets/controls",
          "model_name": "HTMLModel",
          "state": {
            "_view_name": "HTMLView",
            "style": "IPY_MODEL_49eedfd85bdb4d4ab5b14e857a5411e7",
            "_dom_classes": [],
            "description": "",
            "_model_name": "HTMLModel",
            "placeholder": "​",
            "_view_module": "@jupyter-widgets/controls",
            "_model_module_version": "1.5.0",
            "value": " 44.7M/44.7M [00:20&lt;00:00, 2.25MB/s]",
            "_view_count": null,
            "_view_module_version": "1.5.0",
            "description_tooltip": null,
            "_model_module": "@jupyter-widgets/controls",
            "layout": "IPY_MODEL_bb1e23c60a324c9da7d2dc8a7967e125"
          }
        },
        "d3075cf1af5e4cd3950ffbf5463fe7c2": {
          "model_module": "@jupyter-widgets/controls",
          "model_name": "ProgressStyleModel",
          "state": {
            "_view_name": "StyleView",
            "_model_name": "ProgressStyleModel",
            "description_width": "initial",
            "_view_module": "@jupyter-widgets/base",
            "_model_module_version": "1.5.0",
            "_view_count": null,
            "_view_module_version": "1.2.0",
            "bar_color": null,
            "_model_module": "@jupyter-widgets/controls"
          }
        },
        "7542fa0dbfca44f0b2fd40efe6a830a6": {
          "model_module": "@jupyter-widgets/base",
          "model_name": "LayoutModel",
          "state": {
            "_view_name": "LayoutView",
            "grid_template_rows": null,
            "right": null,
            "justify_content": null,
            "_view_module": "@jupyter-widgets/base",
            "overflow": null,
            "_model_module_version": "1.2.0",
            "_view_count": null,
            "flex_flow": null,
            "width": null,
            "min_width": null,
            "border": null,
            "align_items": null,
            "bottom": null,
            "_model_module": "@jupyter-widgets/base",
            "top": null,
            "grid_column": null,
            "overflow_y": null,
            "overflow_x": null,
            "grid_auto_flow": null,
            "grid_area": null,
            "grid_template_columns": null,
            "flex": null,
            "_model_name": "LayoutModel",
            "justify_items": null,
            "grid_row": null,
            "max_height": null,
            "align_content": null,
            "visibility": null,
            "align_self": null,
            "height": null,
            "min_height": null,
            "padding": null,
            "grid_auto_rows": null,
            "grid_gap": null,
            "max_width": null,
            "order": null,
            "_view_module_version": "1.2.0",
            "grid_template_areas": null,
            "object_position": null,
            "object_fit": null,
            "grid_auto_columns": null,
            "margin": null,
            "display": null,
            "left": null
          }
        },
        "49eedfd85bdb4d4ab5b14e857a5411e7": {
          "model_module": "@jupyter-widgets/controls",
          "model_name": "DescriptionStyleModel",
          "state": {
            "_view_name": "StyleView",
            "_model_name": "DescriptionStyleModel",
            "description_width": "",
            "_view_module": "@jupyter-widgets/base",
            "_model_module_version": "1.5.0",
            "_view_count": null,
            "_view_module_version": "1.2.0",
            "_model_module": "@jupyter-widgets/controls"
          }
        },
        "bb1e23c60a324c9da7d2dc8a7967e125": {
          "model_module": "@jupyter-widgets/base",
          "model_name": "LayoutModel",
          "state": {
            "_view_name": "LayoutView",
            "grid_template_rows": null,
            "right": null,
            "justify_content": null,
            "_view_module": "@jupyter-widgets/base",
            "overflow": null,
            "_model_module_version": "1.2.0",
            "_view_count": null,
            "flex_flow": null,
            "width": null,
            "min_width": null,
            "border": null,
            "align_items": null,
            "bottom": null,
            "_model_module": "@jupyter-widgets/base",
            "top": null,
            "grid_column": null,
            "overflow_y": null,
            "overflow_x": null,
            "grid_auto_flow": null,
            "grid_area": null,
            "grid_template_columns": null,
            "flex": null,
            "_model_name": "LayoutModel",
            "justify_items": null,
            "grid_row": null,
            "max_height": null,
            "align_content": null,
            "visibility": null,
            "align_self": null,
            "height": null,
            "min_height": null,
            "padding": null,
            "grid_auto_rows": null,
            "grid_gap": null,
            "max_width": null,
            "order": null,
            "_view_module_version": "1.2.0",
            "grid_template_areas": null,
            "object_position": null,
            "object_fit": null,
            "grid_auto_columns": null,
            "margin": null,
            "display": null,
            "left": null
          }
        }
      }
    }
  },
  "cells": [
    {
      "cell_type": "markdown",
      "metadata": {
        "id": "view-in-github",
        "colab_type": "text"
      },
      "source": [
        "<a href=\"https://colab.research.google.com/github/vedrocks15/Qiskit_Circuits/blob/master/DanceForms2.ipynb\" target=\"_parent\"><img src=\"https://colab.research.google.com/assets/colab-badge.svg\" alt=\"Open In Colab\"/></a>"
      ]
    },
    {
      "cell_type": "markdown",
      "metadata": {
        "id": "c1KbMcqJBM1H",
        "colab_type": "text"
      },
      "source": [
        "***Classical - Quantum CNN*** \\\\\n",
        "ResNet-18 is used as pre trained network \\\\\n",
        "And variational quantum circuit is used before the prediction layer"
      ]
    },
    {
      "cell_type": "code",
      "metadata": {
        "id": "T_wltnneEWim",
        "colab_type": "code",
        "colab": {
          "base_uri": "https://localhost:8080/",
          "height": 199
        },
        "outputId": "deb14781-2cff-452f-d02a-0a51eee2a766"
      },
      "source": [
        "pip install pennylane"
      ],
      "execution_count": null,
      "outputs": [
        {
          "output_type": "stream",
          "text": [
            "Requirement already satisfied: pennylane in /usr/local/lib/python3.6/dist-packages (0.10.0)\n",
            "Requirement already satisfied: networkx in /usr/local/lib/python3.6/dist-packages (from pennylane) (2.4)\n",
            "Requirement already satisfied: semantic-version==2.6 in /usr/local/lib/python3.6/dist-packages (from pennylane) (2.6.0)\n",
            "Requirement already satisfied: scipy in /usr/local/lib/python3.6/dist-packages (from pennylane) (1.4.1)\n",
            "Requirement already satisfied: appdirs in /usr/local/lib/python3.6/dist-packages (from pennylane) (1.4.4)\n",
            "Requirement already satisfied: autograd in /usr/local/lib/python3.6/dist-packages (from pennylane) (1.3)\n",
            "Requirement already satisfied: toml in /usr/local/lib/python3.6/dist-packages (from pennylane) (0.10.1)\n",
            "Requirement already satisfied: numpy in /usr/local/lib/python3.6/dist-packages (from pennylane) (1.18.5)\n",
            "Requirement already satisfied: decorator>=4.3.0 in /usr/local/lib/python3.6/dist-packages (from networkx->pennylane) (4.4.2)\n",
            "Requirement already satisfied: future>=0.15.2 in /usr/local/lib/python3.6/dist-packages (from autograd->pennylane) (0.16.0)\n"
          ],
          "name": "stdout"
        }
      ]
    },
    {
      "cell_type": "code",
      "metadata": {
        "id": "yOY828k3EMkY",
        "colab_type": "code",
        "colab": {
          "base_uri": "https://localhost:8080/",
          "height": 381
        },
        "outputId": "54593c41-9528-4201-8535-98e3bb7530ca"
      },
      "source": [
        "import time\n",
        "import os\n",
        "import copy\n",
        "\n",
        "# PyTorch\n",
        "import torch\n",
        "import torch.nn as nn\n",
        "import torch.optim as optim\n",
        "from torch.optim import lr_scheduler\n",
        "import torchvision\n",
        "from torchvision import datasets, transforms\n",
        "\n",
        "# Pennylane\n",
        "import pennylane as qml\n",
        "from pennylane import numpy as np\n",
        "\n",
        "# Plotting\n",
        "import matplotlib.pyplot as plt\n",
        "\n",
        "# OpenMP: number of parallel threads.\n",
        "os.environ[\"OMP_NUM_THREADS\"] = \"1\"\n",
        "\n",
        "qml.about()"
      ],
      "execution_count": null,
      "outputs": [
        {
          "output_type": "stream",
          "text": [
            "Name: PennyLane\n",
            "Version: 0.10.0\n",
            "Summary: PennyLane is a Python quantum machine learning library by Xanadu Inc.\n",
            "Home-page: https://github.com/XanaduAI/pennylane\n",
            "Author: None\n",
            "Author-email: None\n",
            "License: Apache License 2.0\n",
            "Location: /usr/local/lib/python3.6/dist-packages\n",
            "Requires: toml, autograd, appdirs, semantic-version, networkx, scipy, numpy\n",
            "Required-by: \n",
            "Platform info:           Linux-4.19.104+-x86_64-with-Ubuntu-18.04-bionic\n",
            "Python version:          3.6.9\n",
            "Numpy version:           1.18.5\n",
            "Scipy version:           1.4.1\n",
            "Installed devices:\n",
            "- default.gaussian (PennyLane-0.10.0)\n",
            "- default.qubit (PennyLane-0.10.0)\n",
            "- default.qubit.tf (PennyLane-0.10.0)\n",
            "- default.tensor (PennyLane-0.10.0)\n",
            "- default.tensor.tf (PennyLane-0.10.0)\n"
          ],
          "name": "stdout"
        }
      ]
    },
    {
      "cell_type": "code",
      "metadata": {
        "id": "8j9WKAxwERHK",
        "colab_type": "code",
        "colab": {}
      },
      "source": [
        "n_qubits = 8               # Number of qubits\n",
        "step = 0.0004               # Learning rate\n",
        "batch_size = 4              # Number of samples for each training step\n",
        "num_epochs = 10              # Number of training epochs\n",
        "q_depth = 6                 # Depth of the quantum circuit (number of variational layers)\n",
        "gamma_lr_scheduler = 0.1    # Learning rate reduction applied every 10 epochs.\n",
        "q_delta = 0.01              # Initial spread of random quantum weights\n",
        "rng_seed = 3                # Seed for random number generator\n",
        "start_time = time.time()    # Start of the computation timer"
      ],
      "execution_count": null,
      "outputs": []
    },
    {
      "cell_type": "code",
      "metadata": {
        "id": "C3Mmzt8TEhw5",
        "colab_type": "code",
        "colab": {}
      },
      "source": [
        "dev    = qml.device(\"default.qubit\", wires=n_qubits)\n",
        "device = torch.device(\"cuda:0\" if torch.cuda.is_available() else \"cpu\")"
      ],
      "execution_count": null,
      "outputs": []
    },
    {
      "cell_type": "code",
      "metadata": {
        "id": "wvJoYd0SEqBT",
        "colab_type": "code",
        "colab": {
          "resources": {
            "http://localhost:8080/nbextensions/google.colab/files.js": {
              "data": "Ly8gQ29weXJpZ2h0IDIwMTcgR29vZ2xlIExMQwovLwovLyBMaWNlbnNlZCB1bmRlciB0aGUgQXBhY2hlIExpY2Vuc2UsIFZlcnNpb24gMi4wICh0aGUgIkxpY2Vuc2UiKTsKLy8geW91IG1heSBub3QgdXNlIHRoaXMgZmlsZSBleGNlcHQgaW4gY29tcGxpYW5jZSB3aXRoIHRoZSBMaWNlbnNlLgovLyBZb3UgbWF5IG9idGFpbiBhIGNvcHkgb2YgdGhlIExpY2Vuc2UgYXQKLy8KLy8gICAgICBodHRwOi8vd3d3LmFwYWNoZS5vcmcvbGljZW5zZXMvTElDRU5TRS0yLjAKLy8KLy8gVW5sZXNzIHJlcXVpcmVkIGJ5IGFwcGxpY2FibGUgbGF3IG9yIGFncmVlZCB0byBpbiB3cml0aW5nLCBzb2Z0d2FyZQovLyBkaXN0cmlidXRlZCB1bmRlciB0aGUgTGljZW5zZSBpcyBkaXN0cmlidXRlZCBvbiBhbiAiQVMgSVMiIEJBU0lTLAovLyBXSVRIT1VUIFdBUlJBTlRJRVMgT1IgQ09ORElUSU9OUyBPRiBBTlkgS0lORCwgZWl0aGVyIGV4cHJlc3Mgb3IgaW1wbGllZC4KLy8gU2VlIHRoZSBMaWNlbnNlIGZvciB0aGUgc3BlY2lmaWMgbGFuZ3VhZ2UgZ292ZXJuaW5nIHBlcm1pc3Npb25zIGFuZAovLyBsaW1pdGF0aW9ucyB1bmRlciB0aGUgTGljZW5zZS4KCi8qKgogKiBAZmlsZW92ZXJ2aWV3IEhlbHBlcnMgZm9yIGdvb2dsZS5jb2xhYiBQeXRob24gbW9kdWxlLgogKi8KKGZ1bmN0aW9uKHNjb3BlKSB7CmZ1bmN0aW9uIHNwYW4odGV4dCwgc3R5bGVBdHRyaWJ1dGVzID0ge30pIHsKICBjb25zdCBlbGVtZW50ID0gZG9jdW1lbnQuY3JlYXRlRWxlbWVudCgnc3BhbicpOwogIGVsZW1lbnQudGV4dENvbnRlbnQgPSB0ZXh0OwogIGZvciAoY29uc3Qga2V5IG9mIE9iamVjdC5rZXlzKHN0eWxlQXR0cmlidXRlcykpIHsKICAgIGVsZW1lbnQuc3R5bGVba2V5XSA9IHN0eWxlQXR0cmlidXRlc1trZXldOwogIH0KICByZXR1cm4gZWxlbWVudDsKfQoKLy8gTWF4IG51bWJlciBvZiBieXRlcyB3aGljaCB3aWxsIGJlIHVwbG9hZGVkIGF0IGEgdGltZS4KY29uc3QgTUFYX1BBWUxPQURfU0laRSA9IDEwMCAqIDEwMjQ7CgpmdW5jdGlvbiBfdXBsb2FkRmlsZXMoaW5wdXRJZCwgb3V0cHV0SWQpIHsKICBjb25zdCBzdGVwcyA9IHVwbG9hZEZpbGVzU3RlcChpbnB1dElkLCBvdXRwdXRJZCk7CiAgY29uc3Qgb3V0cHV0RWxlbWVudCA9IGRvY3VtZW50LmdldEVsZW1lbnRCeUlkKG91dHB1dElkKTsKICAvLyBDYWNoZSBzdGVwcyBvbiB0aGUgb3V0cHV0RWxlbWVudCB0byBtYWtlIGl0IGF2YWlsYWJsZSBmb3IgdGhlIG5leHQgY2FsbAogIC8vIHRvIHVwbG9hZEZpbGVzQ29udGludWUgZnJvbSBQeXRob24uCiAgb3V0cHV0RWxlbWVudC5zdGVwcyA9IHN0ZXBzOwoKICByZXR1cm4gX3VwbG9hZEZpbGVzQ29udGludWUob3V0cHV0SWQpOwp9CgovLyBUaGlzIGlzIHJvdWdobHkgYW4gYXN5bmMgZ2VuZXJhdG9yIChub3Qgc3VwcG9ydGVkIGluIHRoZSBicm93c2VyIHlldCksCi8vIHdoZXJlIHRoZXJlIGFyZSBtdWx0aXBsZSBhc3luY2hyb25vdXMgc3RlcHMgYW5kIHRoZSBQeXRob24gc2lkZSBpcyBnb2luZwovLyB0byBwb2xsIGZvciBjb21wbGV0aW9uIG9mIGVhY2ggc3RlcC4KLy8gVGhpcyB1c2VzIGEgUHJvbWlzZSB0byBibG9jayB0aGUgcHl0aG9uIHNpZGUgb24gY29tcGxldGlvbiBvZiBlYWNoIHN0ZXAsCi8vIHRoZW4gcGFzc2VzIHRoZSByZXN1bHQgb2YgdGhlIHByZXZpb3VzIHN0ZXAgYXMgdGhlIGlucHV0IHRvIHRoZSBuZXh0IHN0ZXAuCmZ1bmN0aW9uIF91cGxvYWRGaWxlc0NvbnRpbnVlKG91dHB1dElkKSB7CiAgY29uc3Qgb3V0cHV0RWxlbWVudCA9IGRvY3VtZW50LmdldEVsZW1lbnRCeUlkKG91dHB1dElkKTsKICBjb25zdCBzdGVwcyA9IG91dHB1dEVsZW1lbnQuc3RlcHM7CgogIGNvbnN0IG5leHQgPSBzdGVwcy5uZXh0KG91dHB1dEVsZW1lbnQubGFzdFByb21pc2VWYWx1ZSk7CiAgcmV0dXJuIFByb21pc2UucmVzb2x2ZShuZXh0LnZhbHVlLnByb21pc2UpLnRoZW4oKHZhbHVlKSA9PiB7CiAgICAvLyBDYWNoZSB0aGUgbGFzdCBwcm9taXNlIHZhbHVlIHRvIG1ha2UgaXQgYXZhaWxhYmxlIHRvIHRoZSBuZXh0CiAgICAvLyBzdGVwIG9mIHRoZSBnZW5lcmF0b3IuCiAgICBvdXRwdXRFbGVtZW50Lmxhc3RQcm9taXNlVmFsdWUgPSB2YWx1ZTsKICAgIHJldHVybiBuZXh0LnZhbHVlLnJlc3BvbnNlOwogIH0pOwp9CgovKioKICogR2VuZXJhdG9yIGZ1bmN0aW9uIHdoaWNoIGlzIGNhbGxlZCBiZXR3ZWVuIGVhY2ggYXN5bmMgc3RlcCBvZiB0aGUgdXBsb2FkCiAqIHByb2Nlc3MuCiAqIEBwYXJhbSB7c3RyaW5nfSBpbnB1dElkIEVsZW1lbnQgSUQgb2YgdGhlIGlucHV0IGZpbGUgcGlja2VyIGVsZW1lbnQuCiAqIEBwYXJhbSB7c3RyaW5nfSBvdXRwdXRJZCBFbGVtZW50IElEIG9mIHRoZSBvdXRwdXQgZGlzcGxheS4KICogQHJldHVybiB7IUl0ZXJhYmxlPCFPYmplY3Q+fSBJdGVyYWJsZSBvZiBuZXh0IHN0ZXBzLgogKi8KZnVuY3Rpb24qIHVwbG9hZEZpbGVzU3RlcChpbnB1dElkLCBvdXRwdXRJZCkgewogIGNvbnN0IGlucHV0RWxlbWVudCA9IGRvY3VtZW50LmdldEVsZW1lbnRCeUlkKGlucHV0SWQpOwogIGlucHV0RWxlbWVudC5kaXNhYmxlZCA9IGZhbHNlOwoKICBjb25zdCBvdXRwdXRFbGVtZW50ID0gZG9jdW1lbnQuZ2V0RWxlbWVudEJ5SWQob3V0cHV0SWQpOwogIG91dHB1dEVsZW1lbnQuaW5uZXJIVE1MID0gJyc7CgogIGNvbnN0IHBpY2tlZFByb21pc2UgPSBuZXcgUHJvbWlzZSgocmVzb2x2ZSkgPT4gewogICAgaW5wdXRFbGVtZW50LmFkZEV2ZW50TGlzdGVuZXIoJ2NoYW5nZScsIChlKSA9PiB7CiAgICAgIHJlc29sdmUoZS50YXJnZXQuZmlsZXMpOwogICAgfSk7CiAgfSk7CgogIGNvbnN0IGNhbmNlbCA9IGRvY3VtZW50LmNyZWF0ZUVsZW1lbnQoJ2J1dHRvbicpOwogIGlucHV0RWxlbWVudC5wYXJlbnRFbGVtZW50LmFwcGVuZENoaWxkKGNhbmNlbCk7CiAgY2FuY2VsLnRleHRDb250ZW50ID0gJ0NhbmNlbCB1cGxvYWQnOwogIGNvbnN0IGNhbmNlbFByb21pc2UgPSBuZXcgUHJvbWlzZSgocmVzb2x2ZSkgPT4gewogICAgY2FuY2VsLm9uY2xpY2sgPSAoKSA9PiB7CiAgICAgIHJlc29sdmUobnVsbCk7CiAgICB9OwogIH0pOwoKICAvLyBXYWl0IGZvciB0aGUgdXNlciB0byBwaWNrIHRoZSBmaWxlcy4KICBjb25zdCBmaWxlcyA9IHlpZWxkIHsKICAgIHByb21pc2U6IFByb21pc2UucmFjZShbcGlja2VkUHJvbWlzZSwgY2FuY2VsUHJvbWlzZV0pLAogICAgcmVzcG9uc2U6IHsKICAgICAgYWN0aW9uOiAnc3RhcnRpbmcnLAogICAgfQogIH07CgogIGNhbmNlbC5yZW1vdmUoKTsKCiAgLy8gRGlzYWJsZSB0aGUgaW5wdXQgZWxlbWVudCBzaW5jZSBmdXJ0aGVyIHBpY2tzIGFyZSBub3QgYWxsb3dlZC4KICBpbnB1dEVsZW1lbnQuZGlzYWJsZWQgPSB0cnVlOwoKICBpZiAoIWZpbGVzKSB7CiAgICByZXR1cm4gewogICAgICByZXNwb25zZTogewogICAgICAgIGFjdGlvbjogJ2NvbXBsZXRlJywKICAgICAgfQogICAgfTsKICB9CgogIGZvciAoY29uc3QgZmlsZSBvZiBmaWxlcykgewogICAgY29uc3QgbGkgPSBkb2N1bWVudC5jcmVhdGVFbGVtZW50KCdsaScpOwogICAgbGkuYXBwZW5kKHNwYW4oZmlsZS5uYW1lLCB7Zm9udFdlaWdodDogJ2JvbGQnfSkpOwogICAgbGkuYXBwZW5kKHNwYW4oCiAgICAgICAgYCgke2ZpbGUudHlwZSB8fCAnbi9hJ30pIC0gJHtmaWxlLnNpemV9IGJ5dGVzLCBgICsKICAgICAgICBgbGFzdCBtb2RpZmllZDogJHsKICAgICAgICAgICAgZmlsZS5sYXN0TW9kaWZpZWREYXRlID8gZmlsZS5sYXN0TW9kaWZpZWREYXRlLnRvTG9jYWxlRGF0ZVN0cmluZygpIDoKICAgICAgICAgICAgICAgICAgICAgICAgICAgICAgICAgICAgJ24vYSd9IC0gYCkpOwogICAgY29uc3QgcGVyY2VudCA9IHNwYW4oJzAlIGRvbmUnKTsKICAgIGxpLmFwcGVuZENoaWxkKHBlcmNlbnQpOwoKICAgIG91dHB1dEVsZW1lbnQuYXBwZW5kQ2hpbGQobGkpOwoKICAgIGNvbnN0IGZpbGVEYXRhUHJvbWlzZSA9IG5ldyBQcm9taXNlKChyZXNvbHZlKSA9PiB7CiAgICAgIGNvbnN0IHJlYWRlciA9IG5ldyBGaWxlUmVhZGVyKCk7CiAgICAgIHJlYWRlci5vbmxvYWQgPSAoZSkgPT4gewogICAgICAgIHJlc29sdmUoZS50YXJnZXQucmVzdWx0KTsKICAgICAgfTsKICAgICAgcmVhZGVyLnJlYWRBc0FycmF5QnVmZmVyKGZpbGUpOwogICAgfSk7CiAgICAvLyBXYWl0IGZvciB0aGUgZGF0YSB0byBiZSByZWFkeS4KICAgIGxldCBmaWxlRGF0YSA9IHlpZWxkIHsKICAgICAgcHJvbWlzZTogZmlsZURhdGFQcm9taXNlLAogICAgICByZXNwb25zZTogewogICAgICAgIGFjdGlvbjogJ2NvbnRpbnVlJywKICAgICAgfQogICAgfTsKCiAgICAvLyBVc2UgYSBjaHVua2VkIHNlbmRpbmcgdG8gYXZvaWQgbWVzc2FnZSBzaXplIGxpbWl0cy4gU2VlIGIvNjIxMTU2NjAuCiAgICBsZXQgcG9zaXRpb24gPSAwOwogICAgd2hpbGUgKHBvc2l0aW9uIDwgZmlsZURhdGEuYnl0ZUxlbmd0aCkgewogICAgICBjb25zdCBsZW5ndGggPSBNYXRoLm1pbihmaWxlRGF0YS5ieXRlTGVuZ3RoIC0gcG9zaXRpb24sIE1BWF9QQVlMT0FEX1NJWkUpOwogICAgICBjb25zdCBjaHVuayA9IG5ldyBVaW50OEFycmF5KGZpbGVEYXRhLCBwb3NpdGlvbiwgbGVuZ3RoKTsKICAgICAgcG9zaXRpb24gKz0gbGVuZ3RoOwoKICAgICAgY29uc3QgYmFzZTY0ID0gYnRvYShTdHJpbmcuZnJvbUNoYXJDb2RlLmFwcGx5KG51bGwsIGNodW5rKSk7CiAgICAgIHlpZWxkIHsKICAgICAgICByZXNwb25zZTogewogICAgICAgICAgYWN0aW9uOiAnYXBwZW5kJywKICAgICAgICAgIGZpbGU6IGZpbGUubmFtZSwKICAgICAgICAgIGRhdGE6IGJhc2U2NCwKICAgICAgICB9LAogICAgICB9OwogICAgICBwZXJjZW50LnRleHRDb250ZW50ID0KICAgICAgICAgIGAke01hdGgucm91bmQoKHBvc2l0aW9uIC8gZmlsZURhdGEuYnl0ZUxlbmd0aCkgKiAxMDApfSUgZG9uZWA7CiAgICB9CiAgfQoKICAvLyBBbGwgZG9uZS4KICB5aWVsZCB7CiAgICByZXNwb25zZTogewogICAgICBhY3Rpb246ICdjb21wbGV0ZScsCiAgICB9CiAgfTsKfQoKc2NvcGUuZ29vZ2xlID0gc2NvcGUuZ29vZ2xlIHx8IHt9OwpzY29wZS5nb29nbGUuY29sYWIgPSBzY29wZS5nb29nbGUuY29sYWIgfHwge307CnNjb3BlLmdvb2dsZS5jb2xhYi5fZmlsZXMgPSB7CiAgX3VwbG9hZEZpbGVzLAogIF91cGxvYWRGaWxlc0NvbnRpbnVlLAp9Owp9KShzZWxmKTsK",
              "ok": true,
              "headers": [
                [
                  "content-type",
                  "application/javascript"
                ]
              ],
              "status": 200,
              "status_text": ""
            }
          },
          "base_uri": "https://localhost:8080/",
          "height": 73
        },
        "outputId": "8c823cf9-e834-4259-88df-a930e51e8b03"
      },
      "source": [
        "from google.colab import files\n",
        "files.upload()"
      ],
      "execution_count": null,
      "outputs": [
        {
          "output_type": "display_data",
          "data": {
            "text/html": [
              "\n",
              "     <input type=\"file\" id=\"files-df8334fe-e2d9-4227-ab97-d74e804ce3ee\" name=\"files[]\" multiple disabled\n",
              "        style=\"border:none\" />\n",
              "     <output id=\"result-df8334fe-e2d9-4227-ab97-d74e804ce3ee\">\n",
              "      Upload widget is only available when the cell has been executed in the\n",
              "      current browser session. Please rerun this cell to enable.\n",
              "      </output>\n",
              "      <script src=\"/nbextensions/google.colab/files.js\"></script> "
            ],
            "text/plain": [
              "<IPython.core.display.HTML object>"
            ]
          },
          "metadata": {
            "tags": []
          }
        },
        {
          "output_type": "stream",
          "text": [
            "Saving 0664343c9a8f11ea.zip to 0664343c9a8f11ea (1).zip\n"
          ],
          "name": "stdout"
        }
      ]
    },
    {
      "cell_type": "code",
      "metadata": {
        "id": "IvU8AU0o5Ejn",
        "colab_type": "code",
        "colab": {
          "base_uri": "https://localhost:8080/",
          "height": 72
        },
        "outputId": "334fcafc-0d0c-453d-88ac-1258fef4e486"
      },
      "source": [
        "! ls\n",
        "! mv 0664343c9a8f11ea (1).zip file.zip"
      ],
      "execution_count": null,
      "outputs": [
        {
          "output_type": "stream",
          "text": [
            "'0664343c9a8f11ea (1).zip'   0664343c9a8f11ea.zip   sample_data\n",
            "/bin/bash: -c: line 0: syntax error near unexpected token `('\n",
            "/bin/bash: -c: line 0: ` mv 0664343c9a8f11ea (1).zip file.zip'\n"
          ],
          "name": "stdout"
        }
      ]
    },
    {
      "cell_type": "code",
      "metadata": {
        "id": "uatqWYMe63d6",
        "colab_type": "code",
        "colab": {
          "base_uri": "https://localhost:8080/",
          "height": 35
        },
        "outputId": "73875d1d-b326-421c-b036-5c7e5d154159"
      },
      "source": [
        "! ls"
      ],
      "execution_count": null,
      "outputs": [
        {
          "output_type": "stream",
          "text": [
            "'0664343c9a8f11ea (1).zip'   0664343c9a8f11ea.zip   sample_data\n"
          ],
          "name": "stdout"
        }
      ]
    },
    {
      "cell_type": "code",
      "metadata": {
        "id": "RJvzLi0xEr-l",
        "colab_type": "code",
        "colab": {
          "base_uri": "https://localhost:8080/",
          "height": 1000
        },
        "outputId": "c8a53e58-bd39-4e22-bbde-95b645e1300b"
      },
      "source": [
        "! unzip '0664343c9a8f11ea (1).zip'"
      ],
      "execution_count": null,
      "outputs": [
        {
          "output_type": "stream",
          "text": [
            "Archive:  0664343c9a8f11ea (1).zip\n",
            "   creating: dataset/\n",
            "   creating: dataset/test/\n",
            "  inflating: dataset/test/508.jpg    \n",
            "  inflating: dataset/test/246.jpg    \n",
            "  inflating: dataset/test/473.jpg    \n",
            "  inflating: dataset/test/485.jpg    \n",
            "  inflating: dataset/test/128.jpg    \n",
            "  inflating: dataset/test/410.jpg    \n",
            "  inflating: dataset/test/465.jpg    \n",
            "  inflating: dataset/test/196.jpg    \n",
            "  inflating: dataset/test/340.jpg    \n",
            "  inflating: dataset/test/467.jpg    \n",
            "  inflating: dataset/test/306.jpg    \n",
            "  inflating: dataset/test/171.jpg    \n",
            "  inflating: dataset/test/323.jpg    \n",
            "  inflating: dataset/test/332.jpg    \n",
            "  inflating: dataset/test/330.jpg    \n",
            "  inflating: dataset/test/170.jpg    \n",
            "  inflating: dataset/test/479.jpg    \n",
            "  inflating: dataset/test/9.jpg      \n",
            "  inflating: dataset/test/283.jpg    \n",
            "  inflating: dataset/test/114.jpg    \n",
            "  inflating: dataset/test/507.jpg    \n",
            "  inflating: dataset/test/183.jpg    \n",
            "  inflating: dataset/test/200.jpg    \n",
            "  inflating: dataset/test/457.jpg    \n",
            "  inflating: dataset/test/264.jpg    \n",
            "  inflating: dataset/test/194.jpg    \n",
            "  inflating: dataset/test/518.jpg    \n",
            "  inflating: dataset/test/175.jpg    \n",
            "  inflating: dataset/test/64.jpg     \n",
            "  inflating: dataset/test/152.jpg    \n",
            "  inflating: dataset/test/270.jpg    \n",
            "  inflating: dataset/test/125.jpg    \n",
            "  inflating: dataset/test/38.jpg     \n",
            "  inflating: dataset/test/440.jpg    \n",
            "  inflating: dataset/test/302.jpg    \n",
            "  inflating: dataset/test/394.jpg    \n",
            "  inflating: dataset/test/448.jpg    \n",
            "  inflating: dataset/test/463.jpg    \n",
            "  inflating: dataset/test/20.jpg     \n",
            "  inflating: dataset/test/301.jpg    \n",
            "  inflating: dataset/test/28.jpg     \n",
            "  inflating: dataset/test/61.jpg     \n",
            "  inflating: dataset/test/398.jpg    \n",
            "  inflating: dataset/test/349.jpg    \n",
            "  inflating: dataset/test/271.jpg    \n",
            "  inflating: dataset/test/286.jpg    \n",
            "  inflating: dataset/test/431.jpg    \n",
            "  inflating: dataset/test/316.jpg    \n",
            "  inflating: dataset/test/224.jpg    \n",
            "  inflating: dataset/test/411.jpg    \n",
            "  inflating: dataset/test/278.jpg    \n",
            "  inflating: dataset/test/456.jpg    \n",
            "  inflating: dataset/test/45.jpg     \n",
            "  inflating: dataset/test/324.jpg    \n",
            "  inflating: dataset/test/6.jpg      \n",
            "  inflating: dataset/test/59.jpg     \n",
            "  inflating: dataset/test/86.jpg     \n",
            "  inflating: dataset/test/470.jpg    \n",
            "  inflating: dataset/test/374.jpg    \n",
            "  inflating: dataset/test/132.jpg    \n",
            "  inflating: dataset/test/216.jpg    \n",
            "  inflating: dataset/test/95.jpg     \n",
            "  inflating: dataset/test/17.jpg     \n",
            "  inflating: dataset/test/162.jpg    \n",
            "  inflating: dataset/test/346.jpg    \n",
            "  inflating: dataset/test/439.jpg    \n",
            "  inflating: dataset/test/232.jpg    \n",
            "  inflating: dataset/test/150.jpg    \n",
            "  inflating: dataset/test/401.jpg    \n",
            "  inflating: dataset/test/145.jpg    \n",
            "  inflating: dataset/test/23.jpg     \n",
            "  inflating: dataset/test/514.jpg    \n",
            "  inflating: dataset/test/193.jpg    \n",
            "  inflating: dataset/test/416.jpg    \n",
            "  inflating: dataset/test/447.jpg    \n",
            "  inflating: dataset/test/220.jpg    \n",
            "  inflating: dataset/test/505.jpg    \n",
            "  inflating: dataset/test/147.jpg    \n",
            "  inflating: dataset/test/210.jpg    \n",
            "  inflating: dataset/test/40.jpg     \n",
            "  inflating: dataset/test/284.jpg    \n",
            "  inflating: dataset/test/55.jpg     \n",
            "  inflating: dataset/test/378.jpg    \n",
            "  inflating: dataset/test/520.jpg    \n",
            "  inflating: dataset/test/484.jpg    \n",
            "  inflating: dataset/test/112.jpg    \n",
            "  inflating: dataset/test/360.jpg    \n",
            "  inflating: dataset/test/317.jpg    \n",
            "  inflating: dataset/test/71.jpg     \n",
            "  inflating: dataset/test/202.jpg    \n",
            "  inflating: dataset/test/92.jpg     \n",
            "  inflating: dataset/test/11.jpg     \n",
            "  inflating: dataset/test/67.jpg     \n",
            "  inflating: dataset/test/138.jpg    \n",
            "  inflating: dataset/test/506.jpg    \n",
            "  inflating: dataset/test/146.jpg    \n",
            "  inflating: dataset/test/318.jpg    \n",
            "  inflating: dataset/test/198.jpg    \n",
            "  inflating: dataset/test/375.jpg    \n",
            "  inflating: dataset/test/41.jpg     \n",
            "  inflating: dataset/test/421.jpg    \n",
            "  inflating: dataset/test/129.jpg    \n",
            "  inflating: dataset/test/14.jpg     \n",
            "  inflating: dataset/test/460.jpg    \n",
            "  inflating: dataset/test/34.jpg     \n",
            "  inflating: dataset/test/380.jpg    \n",
            "  inflating: dataset/test/238.jpg    \n",
            "  inflating: dataset/test/392.jpg    \n",
            "  inflating: dataset/test/80.jpg     \n",
            "  inflating: dataset/test/517.jpg    \n",
            "  inflating: dataset/test/13.jpg     \n",
            "  inflating: dataset/test/189.jpg    \n",
            "  inflating: dataset/test/390.jpg    \n",
            "  inflating: dataset/test/487.jpg    \n",
            "  inflating: dataset/test/438.jpg    \n",
            "  inflating: dataset/test/482.jpg    \n",
            "  inflating: dataset/test/206.jpg    \n",
            "  inflating: dataset/test/217.jpg    \n",
            "  inflating: dataset/test/285.jpg    \n",
            "  inflating: dataset/test/385.jpg    \n",
            "  inflating: dataset/test/495.jpg    \n",
            "  inflating: dataset/test/269.jpg    \n",
            "  inflating: dataset/test/429.jpg    \n",
            "  inflating: dataset/test/291.jpg    \n",
            "  inflating: dataset/test/461.jpg    \n",
            "  inflating: dataset/test/256.jpg    \n",
            "  inflating: dataset/test/48.jpg     \n",
            "  inflating: dataset/test/290.jpg    \n",
            "  inflating: dataset/test/437.jpg    \n",
            "  inflating: dataset/test/498.jpg    \n",
            "  inflating: dataset/test/173.jpg    \n",
            "  inflating: dataset/test/280.jpg    \n",
            "  inflating: dataset/test/119.jpg    \n",
            "  inflating: dataset/test/363.jpg    \n",
            "  inflating: dataset/test/97.jpg     \n",
            "  inflating: dataset/test/414.jpg    \n",
            "  inflating: dataset/test/386.jpg    \n",
            "  inflating: dataset/test/424.jpg    \n",
            "  inflating: dataset/test/157.jpg    \n",
            "  inflating: dataset/test/33.jpg     \n",
            "  inflating: dataset/test/354.jpg    \n",
            "  inflating: dataset/test/57.jpg     \n",
            "  inflating: dataset/test/108.jpg    \n",
            "  inflating: dataset/test/239.jpg    \n",
            "  inflating: dataset/test/441.jpg    \n",
            "  inflating: dataset/test/215.jpg    \n",
            "  inflating: dataset/test/373.jpg    \n",
            "  inflating: dataset/test/292.jpg    \n",
            "  inflating: dataset/test/110.jpg    \n",
            "  inflating: dataset/test/510.jpg    \n",
            "  inflating: dataset/test/275.jpg    \n",
            "  inflating: dataset/test/366.jpg    \n",
            "  inflating: dataset/test/226.jpg    \n",
            "  inflating: dataset/test/35.jpg     \n",
            "  inflating: dataset/test/458.jpg    \n",
            "  inflating: dataset/test/358.jpg    \n",
            "   creating: dataset/train/\n",
            "  inflating: dataset/train/96.jpg    \n",
            "  inflating: dataset/train/163.jpg   \n",
            "  inflating: dataset/train/450.jpg   \n",
            "  inflating: dataset/train/219.jpg   \n",
            "  inflating: dataset/train/455.jpg   \n",
            "  inflating: dataset/train/46.jpg    \n",
            "  inflating: dataset/train/326.jpg   \n",
            "  inflating: dataset/train/408.jpg   \n",
            "  inflating: dataset/train/365.jpg   \n",
            "  inflating: dataset/train/422.jpg   \n",
            "  inflating: dataset/train/397.jpg   \n",
            "  inflating: dataset/train/400.jpg   \n",
            "  inflating: dataset/train/32.jpg    \n",
            "  inflating: dataset/train/350.jpg   \n",
            "  inflating: dataset/train/234.jpg   \n",
            "  inflating: dataset/train/492.jpg   \n",
            "  inflating: dataset/train/333.jpg   \n",
            "  inflating: dataset/train/376.jpg   \n",
            "  inflating: dataset/train/103.jpg   \n",
            "  inflating: dataset/train/39.jpg    \n",
            "  inflating: dataset/train/87.jpg    \n",
            "  inflating: dataset/train/155.jpg   \n",
            "  inflating: dataset/train/388.jpg   \n",
            "  inflating: dataset/train/384.jpg   \n",
            "  inflating: dataset/train/248.jpg   \n",
            "  inflating: dataset/train/494.jpg   \n",
            "  inflating: dataset/train/47.jpg    \n",
            "  inflating: dataset/train/488.jpg   \n",
            "  inflating: dataset/train/462.jpg   \n",
            "  inflating: dataset/train/347.jpg   \n",
            "  inflating: dataset/train/242.jpg   \n",
            "  inflating: dataset/train/16.jpg    \n",
            "  inflating: dataset/train/178.jpg   \n",
            "  inflating: dataset/train/348.jpg   \n",
            "  inflating: dataset/train/164.jpg   \n",
            "  inflating: dataset/train/2.jpg     \n",
            "  inflating: dataset/train/141.jpg   \n",
            "  inflating: dataset/train/187.jpg   \n",
            "  inflating: dataset/train/464.jpg   \n",
            "  inflating: dataset/train/472.jpg   \n",
            "  inflating: dataset/train/489.jpg   \n",
            "  inflating: dataset/train/387.jpg   \n",
            "  inflating: dataset/train/109.jpg   \n",
            "  inflating: dataset/train/255.jpg   \n",
            "  inflating: dataset/train/274.jpg   \n",
            "  inflating: dataset/train/509.jpg   \n",
            "  inflating: dataset/train/19.jpg    \n",
            "  inflating: dataset/train/102.jpg   \n",
            "  inflating: dataset/train/24.jpg    \n",
            "  inflating: dataset/train/294.jpg   \n",
            "  inflating: dataset/train/501.jpg   \n",
            "  inflating: dataset/train/335.jpg   \n",
            "  inflating: dataset/train/321.jpg   \n",
            "  inflating: dataset/train/480.jpg   \n",
            "  inflating: dataset/train/393.jpg   \n",
            "  inflating: dataset/train/344.jpg   \n",
            "  inflating: dataset/train/259.jpg   \n",
            "  inflating: dataset/train/76.jpg    \n",
            "  inflating: dataset/train/343.jpg   \n",
            "  inflating: dataset/train/4.jpg     \n",
            "  inflating: dataset/train/486.jpg   \n",
            "  inflating: dataset/train/361.jpg   \n",
            "  inflating: dataset/train/90.jpg    \n",
            "  inflating: dataset/train/231.jpg   \n",
            "  inflating: dataset/train/331.jpg   \n",
            "  inflating: dataset/train/243.jpg   \n",
            "  inflating: dataset/train/104.jpg   \n",
            "  inflating: dataset/train/113.jpg   \n",
            "  inflating: dataset/train/21.jpg    \n",
            "  inflating: dataset/train/15.jpg    \n",
            "  inflating: dataset/train/370.jpg   \n",
            "  inflating: dataset/train/124.jpg   \n",
            "  inflating: dataset/train/241.jpg   \n",
            "  inflating: dataset/train/56.jpg    \n",
            "  inflating: dataset/train/296.jpg   \n",
            "  inflating: dataset/train/81.jpg    \n",
            "  inflating: dataset/train/29.jpg    \n",
            "  inflating: dataset/train/423.jpg   \n",
            "  inflating: dataset/train/445.jpg   \n",
            "  inflating: dataset/train/406.jpg   \n",
            "  inflating: dataset/train/116.jpg   \n",
            "  inflating: dataset/train/407.jpg   \n",
            "  inflating: dataset/train/118.jpg   \n",
            "  inflating: dataset/train/367.jpg   \n",
            "  inflating: dataset/train/30.jpg    \n",
            "  inflating: dataset/train/395.jpg   \n",
            "  inflating: dataset/train/265.jpg   \n",
            "  inflating: dataset/train/73.jpg    \n",
            "  inflating: dataset/train/277.jpg   \n",
            "  inflating: dataset/train/122.jpg   \n",
            "  inflating: dataset/train/516.jpg   \n",
            "  inflating: dataset/train/377.jpg   \n",
            "  inflating: dataset/train/513.jpg   \n",
            "  inflating: dataset/train/405.jpg   \n",
            "  inflating: dataset/train/172.jpg   \n",
            "  inflating: dataset/train/299.jpg   \n",
            "  inflating: dataset/train/149.jpg   \n",
            "  inflating: dataset/train/165.jpg   \n",
            "  inflating: dataset/train/371.jpg   \n",
            "  inflating: dataset/train/18.jpg    \n",
            "  inflating: dataset/train/213.jpg   \n",
            "  inflating: dataset/train/303.jpg   \n",
            "  inflating: dataset/train/353.jpg   \n",
            "  inflating: dataset/train/135.jpg   \n",
            "  inflating: dataset/train/481.jpg   \n",
            "  inflating: dataset/train/3.jpg     \n",
            "  inflating: dataset/train/329.jpg   \n",
            "  inflating: dataset/train/345.jpg   \n",
            "  inflating: dataset/train/443.jpg   \n",
            "  inflating: dataset/train/504.jpg   \n",
            "  inflating: dataset/train/12.jpg    \n",
            "  inflating: dataset/train/74.jpg    \n",
            "  inflating: dataset/train/185.jpg   \n",
            "  inflating: dataset/train/161.jpg   \n",
            "  inflating: dataset/train/309.jpg   \n",
            "  inflating: dataset/train/205.jpg   \n",
            "  inflating: dataset/train/379.jpg   \n",
            "  inflating: dataset/train/82.jpg    \n",
            "  inflating: dataset/train/276.jpg   \n",
            "  inflating: dataset/train/154.jpg   \n",
            "  inflating: dataset/train/254.jpg   \n",
            "  inflating: dataset/train/26.jpg    \n",
            "  inflating: dataset/train/181.jpg   \n",
            "  inflating: dataset/train/425.jpg   \n",
            "  inflating: dataset/train/131.jpg   \n",
            "  inflating: dataset/train/272.jpg   \n",
            "  inflating: dataset/train/117.jpg   \n",
            "  inflating: dataset/train/252.jpg   \n",
            "  inflating: dataset/train/180.jpg   \n",
            "  inflating: dataset/train/142.jpg   \n",
            "  inflating: dataset/train/261.jpg   \n",
            "  inflating: dataset/train/136.jpg   \n",
            "  inflating: dataset/train/85.jpg    \n",
            "  inflating: dataset/train/88.jpg    \n",
            "  inflating: dataset/train/372.jpg   \n",
            "  inflating: dataset/train/279.jpg   \n",
            "  inflating: dataset/train/313.jpg   \n",
            "  inflating: dataset/train/159.jpg   \n",
            "  inflating: dataset/train/483.jpg   \n",
            "  inflating: dataset/train/262.jpg   \n",
            "  inflating: dataset/train/519.jpg   \n",
            "  inflating: dataset/train/308.jpg   \n",
            "  inflating: dataset/train/211.jpg   \n",
            "  inflating: dataset/train/497.jpg   \n",
            "  inflating: dataset/train/325.jpg   \n",
            "  inflating: dataset/train/169.jpg   \n",
            "  inflating: dataset/train/244.jpg   \n",
            "  inflating: dataset/train/474.jpg   \n",
            "  inflating: dataset/train/322.jpg   \n",
            "  inflating: dataset/train/94.jpg    \n",
            "  inflating: dataset/train/314.jpg   \n",
            "  inflating: dataset/train/356.jpg   \n",
            "  inflating: dataset/train/22.jpg    \n",
            "  inflating: dataset/train/512.jpg   \n",
            "  inflating: dataset/train/182.jpg   \n",
            "  inflating: dataset/train/156.jpg   \n",
            "  inflating: dataset/train/289.jpg   \n",
            "  inflating: dataset/train/25.jpg    \n",
            "  inflating: dataset/train/436.jpg   \n",
            "  inflating: dataset/train/93.jpg    \n",
            "  inflating: dataset/train/336.jpg   \n",
            "  inflating: dataset/train/225.jpg   \n",
            "  inflating: dataset/train/298.jpg   \n",
            "  inflating: dataset/train/214.jpg   \n",
            "  inflating: dataset/train/27.jpg    \n",
            "  inflating: dataset/train/342.jpg   \n",
            "  inflating: dataset/train/273.jpg   \n",
            "  inflating: dataset/train/133.jpg   \n",
            "  inflating: dataset/train/168.jpg   \n",
            "  inflating: dataset/train/409.jpg   \n",
            "  inflating: dataset/train/459.jpg   \n",
            "  inflating: dataset/train/31.jpg    \n",
            "  inflating: dataset/train/468.jpg   \n",
            "  inflating: dataset/train/434.jpg   \n",
            "  inflating: dataset/train/312.jpg   \n",
            "  inflating: dataset/train/383.jpg   \n",
            "  inflating: dataset/train/476.jpg   \n",
            "  inflating: dataset/train/334.jpg   \n",
            "  inflating: dataset/train/151.jpg   \n",
            "  inflating: dataset/train/166.jpg   \n",
            "  inflating: dataset/train/227.jpg   \n",
            "  inflating: dataset/train/471.jpg   \n",
            "  inflating: dataset/train/267.jpg   \n",
            "  inflating: dataset/train/100.jpg   \n",
            "  inflating: dataset/train/446.jpg   \n",
            "  inflating: dataset/train/208.jpg   \n",
            "  inflating: dataset/train/293.jpg   \n",
            "  inflating: dataset/train/297.jpg   \n",
            "  inflating: dataset/train/412.jpg   \n",
            "  inflating: dataset/train/58.jpg    \n",
            "  inflating: dataset/train/288.jpg   \n",
            "  inflating: dataset/train/105.jpg   \n",
            "  inflating: dataset/train/477.jpg   \n",
            "  inflating: dataset/train/502.jpg   \n",
            "  inflating: dataset/train/418.jpg   \n",
            "  inflating: dataset/train/233.jpg   \n",
            "  inflating: dataset/train/134.jpg   \n",
            "  inflating: dataset/train/197.jpg   \n",
            "  inflating: dataset/train/245.jpg   \n",
            "  inflating: dataset/train/176.jpg   \n",
            "  inflating: dataset/train/203.jpg   \n",
            "  inflating: dataset/train/247.jpg   \n",
            "  inflating: dataset/train/493.jpg   \n",
            "  inflating: dataset/train/68.jpg    \n",
            "  inflating: dataset/train/442.jpg   \n",
            "  inflating: dataset/train/115.jpg   \n",
            "  inflating: dataset/train/357.jpg   \n",
            "  inflating: dataset/train/389.jpg   \n",
            "  inflating: dataset/train/218.jpg   \n",
            "  inflating: dataset/train/263.jpg   \n",
            "  inflating: dataset/train/184.jpg   \n",
            "  inflating: dataset/train/315.jpg   \n",
            "  inflating: dataset/train/295.jpg   \n",
            "  inflating: dataset/train/42.jpg    \n",
            "  inflating: dataset/train/427.jpg   \n",
            "  inflating: dataset/train/287.jpg   \n",
            "  inflating: dataset/train/430.jpg   \n",
            "  inflating: dataset/train/359.jpg   \n",
            "  inflating: dataset/train/249.jpg   \n",
            "  inflating: dataset/train/54.jpg    \n",
            "  inflating: dataset/train/305.jpg   \n",
            "  inflating: dataset/train/319.jpg   \n",
            "  inflating: dataset/train/496.jpg   \n",
            "  inflating: dataset/train/60.jpg    \n",
            "  inflating: dataset/train/37.jpg    \n",
            "  inflating: dataset/train/192.jpg   \n",
            "  inflating: dataset/train/304.jpg   \n",
            "  inflating: dataset/train/258.jpg   \n",
            "  inflating: dataset/train/364.jpg   \n",
            "  inflating: dataset/train/49.jpg    \n",
            "  inflating: dataset/train/144.jpg   \n",
            "  inflating: dataset/train/7.jpg     \n",
            "  inflating: dataset/train/98.jpg    \n",
            "  inflating: dataset/train/223.jpg   \n",
            "  inflating: dataset/train/320.jpg   \n",
            "  inflating: dataset/train/70.jpg    \n",
            "  inflating: dataset/train/426.jpg   \n",
            "  inflating: dataset/train/84.jpg    \n",
            "  inflating: dataset/train/44.jpg    \n",
            "  inflating: dataset/train/177.jpg   \n",
            "  inflating: dataset/train/50.jpg    \n",
            "  inflating: dataset/train/417.jpg   \n",
            "  inflating: dataset/train/191.jpg   \n",
            "  inflating: dataset/train/221.jpg   \n",
            "  inflating: dataset/train/500.jpg   \n",
            "  inflating: dataset/train/428.jpg   \n",
            "  inflating: dataset/train/137.jpg   \n",
            "  inflating: dataset/train/195.jpg   \n",
            "  inflating: dataset/train/413.jpg   \n",
            "  inflating: dataset/train/228.jpg   \n",
            "  inflating: dataset/train/478.jpg   \n",
            "  inflating: dataset/train/123.jpg   \n",
            "  inflating: dataset/train/369.jpg   \n",
            "  inflating: dataset/train/328.jpg   \n",
            "  inflating: dataset/train/1.jpg     \n",
            "  inflating: dataset/train/126.jpg   \n",
            "  inflating: dataset/train/503.jpg   \n",
            "  inflating: dataset/train/352.jpg   \n",
            "  inflating: dataset/train/120.jpg   \n",
            "  inflating: dataset/train/452.jpg   \n",
            "  inflating: dataset/train/339.jpg   \n",
            "  inflating: dataset/train/266.jpg   \n",
            "  inflating: dataset/train/201.jpg   \n",
            "  inflating: dataset/train/229.jpg   \n",
            "  inflating: dataset/train/402.jpg   \n",
            "  inflating: dataset/train/381.jpg   \n",
            "  inflating: dataset/train/449.jpg   \n",
            "  inflating: dataset/train/107.jpg   \n",
            "  inflating: dataset/train/444.jpg   \n",
            "  inflating: dataset/train/327.jpg   \n",
            "  inflating: dataset/train/8.jpg     \n",
            "  inflating: dataset/train/451.jpg   \n",
            "  inflating: dataset/train/77.jpg    \n",
            "  inflating: dataset/train/148.jpg   \n",
            "  inflating: dataset/train/399.jpg   \n",
            "  inflating: dataset/train/130.jpg   \n",
            "  inflating: dataset/train/362.jpg   \n",
            "  inflating: dataset/train/310.jpg   \n",
            "  inflating: dataset/train/79.jpg    \n",
            "  inflating: dataset/train/127.jpg   \n",
            "  inflating: dataset/train/237.jpg   \n",
            "  inflating: dataset/train/257.jpg   \n",
            "  inflating: dataset/train/160.jpg   \n",
            "  inflating: dataset/train/52.jpg    \n",
            "  inflating: dataset/train/190.jpg   \n",
            "  inflating: dataset/train/382.jpg   \n",
            "  inflating: dataset/train/143.jpg   \n",
            "  inflating: dataset/train/199.jpg   \n",
            "  inflating: dataset/train/282.jpg   \n",
            "  inflating: dataset/train/207.jpg   \n",
            "  inflating: dataset/train/403.jpg   \n",
            "  inflating: dataset/train/337.jpg   \n",
            "  inflating: dataset/train/355.jpg   \n",
            "  inflating: dataset/train/251.jpg   \n",
            "  inflating: dataset/train/188.jpg   \n",
            "  inflating: dataset/train/338.jpg   \n",
            "  inflating: dataset/train/341.jpg   \n",
            "  inflating: dataset/train/433.jpg   \n",
            "  inflating: dataset/train/69.jpg    \n",
            "  inflating: dataset/train/236.jpg   \n",
            "  inflating: dataset/train/106.jpg   \n",
            "  inflating: dataset/train/99.jpg    \n",
            "  inflating: dataset/train/179.jpg   \n",
            "  inflating: dataset/train/204.jpg   \n",
            "  inflating: dataset/train/300.jpg   \n",
            "  inflating: dataset/train/432.jpg   \n",
            "  inflating: dataset/train/490.jpg   \n",
            "  inflating: dataset/train/368.jpg   \n",
            "  inflating: dataset/train/153.jpg   \n",
            "  inflating: dataset/train/174.jpg   \n",
            "  inflating: dataset/train/51.jpg    \n",
            "  inflating: dataset/train/62.jpg    \n",
            "  inflating: dataset/train/420.jpg   \n",
            "  inflating: dataset/train/75.jpg    \n",
            "  inflating: dataset/train/230.jpg   \n",
            "  inflating: dataset/train/307.jpg   \n",
            "  inflating: dataset/train/212.jpg   \n",
            "  inflating: dataset/train/209.jpg   \n",
            "  inflating: dataset/train/415.jpg   \n",
            "  inflating: dataset/train/491.jpg   \n",
            "  inflating: dataset/train/453.jpg   \n",
            "  inflating: dataset/train/351.jpg   \n",
            "  inflating: dataset/train/111.jpg   \n",
            "  inflating: dataset/train/391.jpg   \n",
            "  inflating: dataset/train/515.jpg   \n",
            "  inflating: dataset/train/65.jpg    \n",
            "  inflating: dataset/train/240.jpg   \n",
            "  inflating: dataset/train/91.jpg    \n",
            "  inflating: dataset/train/222.jpg   \n",
            "  inflating: dataset/train/53.jpg    \n",
            "  inflating: dataset/train/158.jpg   \n",
            "  inflating: dataset/train/475.jpg   \n",
            "  inflating: dataset/train/121.jpg   \n",
            "  inflating: dataset/train/396.jpg   \n",
            "  inflating: dataset/train/63.jpg    \n",
            "  inflating: dataset/train/268.jpg   \n",
            "  inflating: dataset/train/78.jpg    \n",
            "  inflating: dataset/train/167.jpg   \n",
            "  inflating: dataset/train/250.jpg   \n",
            "  inflating: dataset/train/454.jpg   \n",
            "  inflating: dataset/train/186.jpg   \n",
            "  inflating: dataset/train/499.jpg   \n",
            "  inflating: dataset/train/101.jpg   \n",
            "  inflating: dataset/train/435.jpg   \n",
            "  inflating: dataset/train/469.jpg   \n",
            "  inflating: dataset/train/139.jpg   \n",
            "  inflating: dataset/train/83.jpg    \n",
            "  inflating: dataset/train/43.jpg    \n",
            "  inflating: dataset/train/281.jpg   \n",
            "  inflating: dataset/train/36.jpg    \n",
            "  inflating: dataset/train/419.jpg   \n",
            "  inflating: dataset/train/66.jpg    \n",
            "  inflating: dataset/train/260.jpg   \n",
            "  inflating: dataset/train/466.jpg   \n",
            "  inflating: dataset/train/140.jpg   \n",
            "  inflating: dataset/train/5.jpg     \n",
            "  inflating: dataset/train/10.jpg    \n",
            "  inflating: dataset/train/235.jpg   \n",
            "  inflating: dataset/train/511.jpg   \n",
            "  inflating: dataset/train/72.jpg    \n",
            "  inflating: dataset/train/253.jpg   \n",
            "  inflating: dataset/train/404.jpg   \n",
            "  inflating: dataset/train/89.jpg    \n",
            "  inflating: dataset/train/311.jpg   \n",
            "  inflating: dataset/test.csv        \n",
            "  inflating: dataset/train.csv       \n"
          ],
          "name": "stdout"
        }
      ]
    },
    {
      "cell_type": "code",
      "metadata": {
        "id": "X50tiGyYFf0Q",
        "colab_type": "code",
        "colab": {
          "base_uri": "https://localhost:8080/",
          "height": 54
        },
        "outputId": "01c462fe-b169-4b01-c83a-7520a3da18f2"
      },
      "source": [
        "! ls\n",
        "! pwd\n",
        "! mkdir dataset/Train"
      ],
      "execution_count": null,
      "outputs": [
        {
          "output_type": "stream",
          "text": [
            "'0664343c9a8f11ea (1).zip'   0664343c9a8f11ea.zip   dataset   sample_data\n",
            "/content\n"
          ],
          "name": "stdout"
        }
      ]
    },
    {
      "cell_type": "code",
      "metadata": {
        "id": "Xd4ch98Z1Ec8",
        "colab_type": "code",
        "colab": {
          "base_uri": "https://localhost:8080/",
          "height": 54
        },
        "outputId": "7efad6aa-b1af-4956-9d4f-000bda427f4d"
      },
      "source": [
        "import pandas as pd\n",
        "import os,shutil\n",
        "df_train = pd.read_csv(\"dataset/train.csv\")\n",
        "df_test  = pd.read_csv(\"dataset/test.csv\")\n",
        "print(\"Train set :\",len(df_train))\n",
        "print(\"Test  set :\",len(df_test))\n",
        "new_train_path  = \"dataset/Train/\"\n",
        "new_train_image = \"dataset/train/\"\n",
        "\n",
        "# Storing train half based on the labels provided by the pandas file & directory name is label name\n",
        "for _,r in df_train.groupby(df_train[\"target\"]):\n",
        "    tmp = new_train_path\n",
        "\n",
        "    style = list(set(r[\"target\"]))\n",
        "    img   = list(r[\"Image\"])\n",
        "\n",
        "    tmp+=style[0]\n",
        "    if os.path.exists(tmp):\n",
        "        shutil.rmtree(tmp)\n",
        "    os.mkdir(tmp)\n",
        "\n",
        "    # copying all files\n",
        "    for fname in img:\n",
        "        src = os.path.join(new_train_image,fname)\n",
        "        des = os.path.join(tmp,fname)\n",
        "        shutil.copyfile(src,des)"
      ],
      "execution_count": null,
      "outputs": [
        {
          "output_type": "stream",
          "text": [
            "Train set : 364\n",
            "Test  set : 156\n"
          ],
          "name": "stdout"
        }
      ]
    },
    {
      "cell_type": "code",
      "metadata": {
        "id": "nCIlBB-t1KlM",
        "colab_type": "code",
        "colab": {
          "base_uri": "https://localhost:8080/",
          "height": 54
        },
        "outputId": "a31327c0-294c-4ec7-c159-4d5b193f444f"
      },
      "source": [
        "! ls dataset/Train"
      ],
      "execution_count": null,
      "outputs": [
        {
          "output_type": "stream",
          "text": [
            "bharatanatyam  kathakali  manipuri\todissi\n",
            "kathak\t       kuchipudi  mohiniyattam\tsattriya\n"
          ],
          "name": "stdout"
        }
      ]
    },
    {
      "cell_type": "code",
      "metadata": {
        "id": "OebFnV98ExqF",
        "colab_type": "code",
        "colab": {
          "base_uri": "https://localhost:8080/",
          "height": 35
        },
        "outputId": "2d8ca2ca-e527-4d24-87ce-4a8afed35d39"
      },
      "source": [
        "data_transforms = {\n",
        "    \"Train\": transforms.Compose(\n",
        "        [\n",
        "            # transforms.RandomResizedCrop(224),     # uncomment for data augmentation\n",
        "            # transforms.RandomHorizontalFlip(),     # uncomment for data augmentation\n",
        "            transforms.Resize(256),\n",
        "            transforms.CenterCrop(224),\n",
        "            transforms.ToTensor(),\n",
        "            # Normalize input channels using mean values and standard deviations of ImageNet.\n",
        "            transforms.Normalize([0.485, 0.456, 0.406], [0.229, 0.224, 0.225]),\n",
        "        ]\n",
        "    ),\n",
        "}\n",
        "\n",
        "data_dir = \"/content/dataset/\"\n",
        "\n",
        "image_datasets = {\n",
        "    x if x == \"Train\" else \"validation\": datasets.ImageFolder(os.path.join(data_dir, x), data_transforms[x])\n",
        "    for x in [\"Train\"]\n",
        "}\n",
        "dataset_sizes = {x: len(image_datasets[x]) for x in [\"Train\"]}\n",
        "class_names = image_datasets[\"Train\"].classes\n",
        "print(class_names)\n",
        "\n",
        "# Initialize dataloader\n",
        "dataloaders = {\n",
        "    x: torch.utils.data.DataLoader(image_datasets[x], batch_size=batch_size, shuffle=True)\n",
        "    for x in [\"Train\"]\n",
        "}\n",
        "\n",
        "# function to plot images\n",
        "def imshow(inp, title=None):\n",
        "    \"\"\"Display image from tensor.\"\"\"\n",
        "    inp = inp.numpy().transpose((1, 2, 0))\n",
        "    # Inverse of the initial normalization operation.\n",
        "    mean = np.array([0.485, 0.456, 0.406])\n",
        "    std = np.array([0.229, 0.224, 0.225])\n",
        "    inp = std * inp + mean\n",
        "    inp = np.clip(inp, 0, 1)\n",
        "    plt.imshow(inp)\n",
        "    if title is not None:\n",
        "        plt.title(title)"
      ],
      "execution_count": null,
      "outputs": [
        {
          "output_type": "stream",
          "text": [
            "['bharatanatyam', 'kathak', 'kathakali', 'kuchipudi', 'manipuri', 'mohiniyattam', 'odissi', 'sattriya']\n"
          ],
          "name": "stdout"
        }
      ]
    },
    {
      "cell_type": "code",
      "metadata": {
        "id": "Dfl5M2dIFsNt",
        "colab_type": "code",
        "colab": {
          "base_uri": "https://localhost:8080/",
          "height": 148
        },
        "outputId": "d3ba36cb-c543-4b05-8af7-38e0103f1b94"
      },
      "source": [
        "# Get a batch of training data\n",
        "inputs, classes = next(iter(dataloaders[\"Train\"]))\n",
        "\n",
        "# Make a grid from batch\n",
        "out = torchvision.utils.make_grid(inputs)\n",
        "\n",
        "imshow(out, title=[class_names[x] for x in classes])\n",
        "\n",
        "# In order to get reproducible results, we set a manual seed for the\n",
        "# random number generator and re-initialize the dataloaders.\n",
        "\n",
        "torch.manual_seed(rng_seed)\n",
        "dataloaders = {\n",
        "    x: torch.utils.data.DataLoader(image_datasets[x], batch_size=batch_size, shuffle=True)\n",
        "    for x in [\"Train\"]\n",
        "}"
      ],
      "execution_count": null,
      "outputs": [
        {
          "output_type": "display_data",
          "data": {
            "image/png": "[encoded data removed]",
            "text/plain": [
              "<Figure size 432x288 with 1 Axes>"
            ]
          },
          "metadata": {
            "tags": [],
            "needs_background": "light"
          }
        }
      ]
    },
    {
      "cell_type": "markdown",
      "metadata": {
        "id": "-6zvUORkDW7e",
        "colab_type": "text"
      },
      "source": [
        "Definition of a variational circuit"
      ]
    },
    {
      "cell_type": "code",
      "metadata": {
        "id": "fEY5M7O7FxaT",
        "colab_type": "code",
        "colab": {}
      },
      "source": [
        "def H_layer(nqubits):\n",
        "    \"\"\"Layer of single-qubit Hadamard gates.\n",
        "    \"\"\"\n",
        "    for idx in range(nqubits):\n",
        "        qml.Hadamard(wires=idx)\n",
        "\n",
        "\n",
        "def RY_layer(w):\n",
        "    \"\"\"Layer of parametrized qubit rotations around the y axis.\n",
        "    \"\"\"\n",
        "    for idx, element in enumerate(w):\n",
        "        qml.RY(element, wires=idx)\n",
        "\n",
        "\n",
        "def entangling_layer(nqubits):\n",
        "    \"\"\"Layer of CNOTs followed by another shifted layer of CNOT.\n",
        "    \"\"\"\n",
        "    # In other words it should apply something like :\n",
        "    # CNOT  CNOT  CNOT  CNOT...  CNOT\n",
        "    #   CNOT  CNOT  CNOT...  CNOT\n",
        "    for i in range(0, nqubits - 1, 2):  # Loop over even indices: i=0,2,...N-2\n",
        "        qml.CNOT(wires=[i, i + 1])\n",
        "    for i in range(1, nqubits - 1, 2):  # Loop over odd indices:  i=1,3,...N-3\n",
        "        qml.CNOT(wires=[i, i + 1])"
      ],
      "execution_count": null,
      "outputs": []
    },
    {
      "cell_type": "code",
      "metadata": {
        "id": "7YnedP7JF3Hx",
        "colab_type": "code",
        "colab": {}
      },
      "source": [
        "@qml.qnode(dev, interface=\"torch\")\n",
        "def quantum_net(q_input_features, q_weights_flat):\n",
        "    \"\"\"\n",
        "    The variational quantum circuit.\n",
        "    \"\"\"\n",
        "\n",
        "    # Reshape weights\n",
        "    q_weights = q_weights_flat.reshape(q_depth, n_qubits)\n",
        "\n",
        "    # Start from state |+> , unbiased w.r.t. |0> and |1>\n",
        "    H_layer(n_qubits)\n",
        "\n",
        "    # Embed features in the quantum node\n",
        "    RY_layer(q_input_features)\n",
        "\n",
        "    # Sequence of trainable variational layers\n",
        "    for k in range(q_depth):\n",
        "        entangling_layer(n_qubits)\n",
        "        RY_layer(q_weights[k])\n",
        "\n",
        "    # Expectation values in the Z basis\n",
        "    exp_vals = [qml.expval(qml.PauliZ(position)) for position in range(n_qubits)]\n",
        "    return tuple(exp_vals)"
      ],
      "execution_count": null,
      "outputs": []
    },
    {
      "cell_type": "code",
      "metadata": {
        "id": "Ei2gszasF-MY",
        "colab_type": "code",
        "colab": {}
      },
      "source": [
        "class DressedQuantumNet(nn.Module):\n",
        "    \"\"\"\n",
        "    Torch module implementing the *dressed* quantum net.\n",
        "    \"\"\"\n",
        "\n",
        "    def __init__(self):\n",
        "        \"\"\"\n",
        "        Definition of the *dressed* layout.\n",
        "        \"\"\"\n",
        "\n",
        "        super().__init__()\n",
        "        self.pre_net = nn.Linear(512, n_qubits)\n",
        "        self.q_params = nn.Parameter(q_delta * torch.randn(q_depth * n_qubits))\n",
        "        self.post_net = nn.Linear(n_qubits, 8)\n",
        "\n",
        "    def forward(self, input_features):\n",
        "        \"\"\"\n",
        "        Defining how tensors are supposed to move through the *dressed* quantum\n",
        "        net.\n",
        "        \"\"\"\n",
        "\n",
        "        # obtain the input features for the quantum circuit\n",
        "        # by reducing the feature dimension from 512 to 4\n",
        "        pre_out = self.pre_net(input_features)\n",
        "        q_in = torch.tanh(pre_out) * np.pi / 2.0\n",
        "\n",
        "        # Apply the quantum circuit to each element of the batch and append to q_out\n",
        "        q_out = torch.Tensor(0, n_qubits)\n",
        "        q_out = q_out.to(device)\n",
        "        for elem in q_in:\n",
        "            q_out_elem = quantum_net(elem, self.q_params).float().unsqueeze(0)\n",
        "            q_out = torch.cat((q_out, q_out_elem))\n",
        "\n",
        "        # return the two-dimensional prediction from the postprocessing layer\n",
        "        return self.post_net(q_out)"
      ],
      "execution_count": null,
      "outputs": []
    },
    {
      "cell_type": "code",
      "metadata": {
        "id": "vTzrNusTF_dF",
        "colab_type": "code",
        "colab": {
          "base_uri": "https://localhost:8080/",
          "height": 85,
          "referenced_widgets": [
            "2d7ec90c9ff54cc69ba5a9ec89716c8c",
            "4f3569d066a54fa689f862df5376d88d",
            "2b68c52916f0405687bd9f012fa10cc4",
            "aaaf152515c746e9a15ed91e2010aab9",
            "d3075cf1af5e4cd3950ffbf5463fe7c2",
            "7542fa0dbfca44f0b2fd40efe6a830a6",
            "49eedfd85bdb4d4ab5b14e857a5411e7",
            "bb1e23c60a324c9da7d2dc8a7967e125"
          ]
        },
        "outputId": "ecfab832-232e-440a-daf6-fcc081ee5064"
      },
      "source": [
        "model_hybrid = torchvision.models.resnet18(pretrained=True)\n",
        "\n",
        "for param in model_hybrid.parameters():\n",
        "    param.requires_grad = False\n",
        "\n",
        "\n",
        "# Notice that model_hybrid.fc is the last layer of ResNet18\n",
        "model_hybrid.fc = DressedQuantumNet()\n",
        "\n",
        "# Use CUDA or CPU according to the \"device\" object.\n",
        "model_hybrid = model_hybrid.to(device)"
      ],
      "execution_count": null,
      "outputs": [
        {
          "output_type": "stream",
          "text": [
            "Downloading: \"https://download.pytorch.org/models/resnet18-5c106cde.pth\" to /root/.cache/torch/checkpoints/resnet18-5c106cde.pth\n"
          ],
          "name": "stderr"
        },
        {
          "output_type": "display_data",
          "data": {
            "application/vnd.jupyter.widget-view+json": {
              "model_id": "2d7ec90c9ff54cc69ba5a9ec89716c8c",
              "version_minor": 0,
              "version_major": 2
            },
            "text/plain": [
              "HBox(children=(FloatProgress(value=0.0, max=46827520.0), HTML(value='')))"
            ]
          },
          "metadata": {
            "tags": []
          }
        },
        {
          "output_type": "stream",
          "text": [
            "\n"
          ],
          "name": "stdout"
        }
      ]
    },
    {
      "cell_type": "code",
      "metadata": {
        "id": "UVKyxRBJGCAh",
        "colab_type": "code",
        "colab": {}
      },
      "source": [
        "criterion = nn.CrossEntropyLoss()\n",
        "optimizer_hybrid = optim.Adam(model_hybrid.fc.parameters(), lr=step)\n",
        "exp_lr_scheduler = lr_scheduler.StepLR(optimizer_hybrid, step_size=10, gamma=gamma_lr_scheduler)"
      ],
      "execution_count": null,
      "outputs": []
    },
    {
      "cell_type": "code",
      "metadata": {
        "id": "eiintRMkGLxR",
        "colab_type": "code",
        "colab": {}
      },
      "source": [
        "def train_model(model, criterion, optimizer, scheduler, num_epochs):\n",
        "    since = time.time()\n",
        "    best_model_wts = copy.deepcopy(model.state_dict())\n",
        "    best_acc = 0.0\n",
        "    best_loss = 10000.0  # Large arbitrary number\n",
        "    best_acc_train = 0.0\n",
        "    best_loss_train = 10000.0  # Large arbitrary number\n",
        "    print(\"Training started:\")\n",
        "\n",
        "    for epoch in range(num_epochs):\n",
        "        print(\"Epoch : \",epoch)\n",
        "\n",
        "        # Each epoch has a training and validation phase\n",
        "        for phase in [\"Train\"]:\n",
        "            if phase == \"Train\":\n",
        "                # Set model to training mode\n",
        "                model.train()\n",
        "            else:\n",
        "                # Set model to evaluate mode\n",
        "                model.eval()\n",
        "            running_loss = 0.0\n",
        "            running_corrects = 0\n",
        "\n",
        "            # Iterate over data.\n",
        "            n_batches = dataset_sizes[phase] // batch_size\n",
        "            it = 0\n",
        "            for inputs, labels in dataloaders[phase]:\n",
        "                since_batch = time.time()\n",
        "                batch_size_ = len(inputs)\n",
        "                inputs = inputs.to(device)\n",
        "                labels = labels.to(device)\n",
        "                optimizer.zero_grad()\n",
        "\n",
        "                # Track/compute gradient and make an optimization step only when training\n",
        "                with torch.set_grad_enabled(phase == \"Train\"):\n",
        "                    outputs = model(inputs)\n",
        "                    _, preds = torch.max(outputs, 1)\n",
        "                    loss = criterion(outputs, labels)\n",
        "                    if phase == \"Train\":\n",
        "                        loss.backward()\n",
        "                        optimizer.step()\n",
        "\n",
        "                # Print iteration results\n",
        "                running_loss += loss.item() * batch_size_\n",
        "                batch_corrects = torch.sum(preds == labels.data).item()\n",
        "                running_corrects += batch_corrects\n",
        "                print(\"Phase: {} Epoch: {}/{} Iter: {}/{} Batch time: {:.4f}\".format(\n",
        "                        phase,\n",
        "                        epoch + 1,\n",
        "                        num_epochs,\n",
        "                        it + 1,\n",
        "                        n_batches + 1,\n",
        "                        time.time() - since_batch,\n",
        "                    ),\n",
        "                    end=\"\\r\",\n",
        "                    flush=True,\n",
        "                )\n",
        "                it += 1\n",
        "\n",
        "            # Print epoch results\n",
        "            epoch_loss = running_loss / dataset_sizes[phase]\n",
        "            epoch_acc = running_corrects / dataset_sizes[phase]\n",
        "            print(\"Phase: {} Epoch: {}/{} Loss: {:.4f} Acc: {:.4f}        \".format(\n",
        "                    \"train\" if phase == \"Train\" else \"validation  \",\n",
        "                    epoch + 1,\n",
        "                    num_epochs,\n",
        "                    epoch_loss,\n",
        "                    epoch_acc,\n",
        "                )\n",
        "            )\n",
        "\n",
        "            # Check if this is the best model wrt previous epochs\n",
        "            if phase == \"Train\" and epoch_acc > best_acc_train:\n",
        "                best_acc_train = epoch_acc\n",
        "            if phase == \"Train\" and epoch_loss < best_loss_train:\n",
        "                best_loss_train = epoch_loss\n",
        "\n",
        "            # Update learning rate\n",
        "            if phase == \"Train\":\n",
        "                scheduler.step()\n",
        "\n",
        "    # Print final results\n",
        "    model.load_state_dict(best_model_wts)\n",
        "    time_elapsed = time.time() - since\n",
        "    print(\"Training completed in {:.0f}m {:.0f}s\".format(time_elapsed // 60, time_elapsed % 60))\n",
        "    print(\"Best test loss: {:.4f} | Best test accuracy: {:.4f}\".format(best_loss_train, best_acc_train))\n",
        "    return model"
      ],
      "execution_count": null,
      "outputs": []
    },
    {
      "cell_type": "code",
      "metadata": {
        "id": "TR1H_WcJGVSN",
        "colab_type": "code",
        "colab": {
          "base_uri": "https://localhost:8080/",
          "height": 108
        },
        "outputId": "727c0e5d-55ab-4a3c-ac5c-3bb12b101aac"
      },
      "source": [
        "model_hybrid = train_model(\n",
        "    model_hybrid, criterion, optimizer_hybrid, exp_lr_scheduler, num_epochs=num_epochs\n",
        ")\n"
      ],
      "execution_count": null,
      "outputs": [
        {
          "output_type": "stream",
          "text": [
            "Training started:\n",
            "Epoch :  0\n",
            "Phase: train Epoch: 1/1 Loss: 2.0729 Acc: 0.1731        \n",
            "Training completed in 7m 10s\n",
            "Best test loss: 2.0729 | Best test accuracy: 0.1731\n"
          ],
          "name": "stdout"
        }
      ]
    },
    {
      "cell_type": "code",
      "metadata": {
        "id": "UFQyTjQgGW2r",
        "colab_type": "code",
        "colab": {}
      },
      "source": [
        "def visualize_model(model, num_images=6, fig_name=\"Predictions\"):\n",
        "    images_so_far = 0\n",
        "    _fig = plt.figure(fig_name)\n",
        "    model.eval()\n",
        "    with torch.no_grad():\n",
        "        for _i, (inputs, labels) in enumerate(dataloaders[\"Train\"]):\n",
        "            inputs = inputs.to(device)\n",
        "            labels = labels.to(device)\n",
        "            outputs = model(inputs)\n",
        "            _, preds = torch.max(outputs, 1)\n",
        "            for j in range(inputs.size()[0]):\n",
        "                images_so_far += 1\n",
        "                ax = plt.subplot(num_images // 2, 2, images_so_far)\n",
        "                ax.axis(\"off\")\n",
        "                ax.set_title(\"[{}]\".format(class_names[preds[j]]))\n",
        "                imshow(inputs.cpu().data[j])\n",
        "                if images_so_far == num_images:\n",
        "                    return\n"
      ],
      "execution_count": null,
      "outputs": []
    },
    {
      "cell_type": "code",
      "metadata": {
        "id": "VEvUROwqGlQd",
        "colab_type": "code",
        "colab": {
          "base_uri": "https://localhost:8080/",
          "height": 264
        },
        "outputId": "435bc4be-a1ab-4272-f574-fd0ec6838147"
      },
      "source": [
        "visualize_model(model_hybrid, num_images=batch_size)\n",
        "plt.show()"
      ],
      "execution_count": null,
      "outputs": [
        {
          "output_type": "display_data",
          "data": {
            "image/png": "[encoded data removed]",
            "text/plain": [
              "<Figure size 432x288 with 4 Axes>"
            ]
          },
          "metadata": {
            "tags": [],
            "needs_background": "light"
          }
        }
      ]
    },
    {
      "cell_type": "code",
      "metadata": {
        "id": "uk3etTBTGv8A",
        "colab_type": "code",
        "colab": {}
      },
      "source": [
        ""
      ],
      "execution_count": null,
      "outputs": []
    }
  ]
}