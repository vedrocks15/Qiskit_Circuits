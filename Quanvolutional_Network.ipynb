{
  "nbformat": 4,
  "nbformat_minor": 0,
  "metadata": {
    "colab": {
      "name": "Quanvolutional_Network.ipynb",
      "provenance": [],
      "authorship_tag": "ABX9TyOhKraFV4gX9x9bWQO+uRFS",
      "include_colab_link": true
    },
    "kernelspec": {
      "name": "python3",
      "display_name": "Python 3"
    }
  },
  "cells": [
    {
      "cell_type": "markdown",
      "metadata": {
        "id": "view-in-github",
        "colab_type": "text"
      },
      "source": [
        "<a href=\"https://colab.research.google.com/github/vedrocks15/Qiskit_Circuits/blob/master/Quanvolutional_Network.ipynb\" target=\"_parent\"><img src=\"https://colab.research.google.com/assets/colab-badge.svg\" alt=\"Open In Colab\"/></a>"
      ]
    },
    {
      "cell_type": "markdown",
      "metadata": {
        "id": "9bdC7tt0_02M",
        "colab_type": "text"
      },
      "source": [
        "Try to see the variations in the performace gains offered by a random quantum circuit to extract features"
      ]
    },
    {
      "cell_type": "code",
      "metadata": {
        "id": "AOPCyM49_h79",
        "colab_type": "code",
        "colab": {
          "base_uri": "https://localhost:8080/",
          "height": 191
        },
        "outputId": "1b22d9be-2042-471f-d1ce-48ca862952c5"
      },
      "source": [
        "! pip install pennylane"
      ],
      "execution_count": null,
      "outputs": [
        {
          "output_type": "stream",
          "text": [
            "Requirement already satisfied: pennylane in /usr/local/lib/python3.6/dist-packages (0.10.0)\n",
            "Requirement already satisfied: numpy in /usr/local/lib/python3.6/dist-packages (from pennylane) (1.18.5)\n",
            "Requirement already satisfied: scipy in /usr/local/lib/python3.6/dist-packages (from pennylane) (1.4.1)\n",
            "Requirement already satisfied: appdirs in /usr/local/lib/python3.6/dist-packages (from pennylane) (1.4.4)\n",
            "Requirement already satisfied: toml in /usr/local/lib/python3.6/dist-packages (from pennylane) (0.10.1)\n",
            "Requirement already satisfied: autograd in /usr/local/lib/python3.6/dist-packages (from pennylane) (1.3)\n",
            "Requirement already satisfied: semantic-version==2.6 in /usr/local/lib/python3.6/dist-packages (from pennylane) (2.6.0)\n",
            "Requirement already satisfied: networkx in /usr/local/lib/python3.6/dist-packages (from pennylane) (2.4)\n",
            "Requirement already satisfied: future>=0.15.2 in /usr/local/lib/python3.6/dist-packages (from autograd->pennylane) (0.16.0)\n",
            "Requirement already satisfied: decorator>=4.3.0 in /usr/local/lib/python3.6/dist-packages (from networkx->pennylane) (4.4.2)\n"
          ],
          "name": "stdout"
        }
      ]
    },
    {
      "cell_type": "code",
      "metadata": {
        "id": "WEDYReq3_xAJ",
        "colab_type": "code",
        "colab": {}
      },
      "source": [
        "# qml used to register qubit as devices\n",
        "import pennylane as qml\n",
        "from pennylane import numpy as np\n",
        "from pennylane.templates import RandomLayers # helps in the generation of a random circuit\n",
        "\n",
        "import tensorflow as tf\n",
        "from tensorflow import keras\n",
        "import matplotlib.pyplot as plt"
      ],
      "execution_count": null,
      "outputs": []
    },
    {
      "cell_type": "markdown",
      "metadata": {
        "id": "XJeCk4taAO2c",
        "colab_type": "text"
      },
      "source": [
        "HyperParameters"
      ]
    },
    {
      "cell_type": "code",
      "metadata": {
        "id": "b6yDGCWTABE8",
        "colab_type": "code",
        "colab": {}
      },
      "source": [
        "n_epochs = 30    # Number of optimization epochs\n",
        "lr       = 0.05  # Learning rate\n",
        "n_layers = 1     # Number of random layers\n",
        "n_train  = 50\n",
        "n_test   = 10"
      ],
      "execution_count": null,
      "outputs": []
    },
    {
      "cell_type": "markdown",
      "metadata": {
        "id": "r_2iSK4yAdAV",
        "colab_type": "text"
      },
      "source": [
        "Loading & pre-processing MNIST Data"
      ]
    },
    {
      "cell_type": "code",
      "metadata": {
        "id": "f9cv2Tc_Ajgy",
        "colab_type": "code",
        "colab": {}
      },
      "source": [
        "mnist_dataset = keras.datasets.mnist\n",
        "(train_images, train_labels), (test_images, test_labels) = mnist_dataset.load_data()\n",
        "\n",
        "# Normalize pixel values within 0 and 1\n",
        "train_images = train_images / 255\n",
        "test_images = test_images / 255\n",
        "\n",
        "\n",
        "train_images = train_images[:n_train]\n",
        "train_labels = train_labels[:n_train]\n",
        "test_images = test_images[:n_test]\n",
        "test_labels = test_labels[:n_test]\n",
        "\n",
        "# Add extra dimension for convolution channels\n",
        "train_images = train_images[..., tf.newaxis]\n",
        "test_images = test_images[..., tf.newaxis]"
      ],
      "execution_count": null,
      "outputs": []
    },
    {
      "cell_type": "code",
      "metadata": {
        "id": "kY_s7FCvFaZ2",
        "colab_type": "code",
        "colab": {
          "base_uri": "https://localhost:8080/",
          "height": 52
        },
        "outputId": "6f2a2677-b6b6-4b82-ab6a-e967ad819cf3"
      },
      "source": [
        "print(len(train_images))\n",
        "print(len(test_images))"
      ],
      "execution_count": null,
      "outputs": [
        {
          "output_type": "stream",
          "text": [
            "50\n",
            "10\n"
          ],
          "name": "stdout"
        }
      ]
    },
    {
      "cell_type": "markdown",
      "metadata": {
        "id": "T0l7OdyJA-Hi",
        "colab_type": "text"
      },
      "source": [
        "Building of Random Quantum Circuit"
      ]
    },
    {
      "cell_type": "code",
      "metadata": {
        "id": "a0JbQXYYA9zf",
        "colab_type": "code",
        "colab": {}
      },
      "source": [
        "# The quanvolutional filter would be of the size 2x2 therefore we make use of 4 wires\n",
        "dev = qml.device(\"default.qubit\", wires=4)\n",
        "\n",
        "# The qnode generted will have the following gate properties :\n",
        "# 1) Encoding  : Ry rotation gate where the angles are scaled by PI\n",
        "# 2) Ciruit    : Of n_layers random in nature\n",
        "# 3) Decoding  : 4 expectation value measurements\n",
        "\n",
        "rand_params = np.random.uniform(high=2 * np.pi, size=(n_layers, 4))\n",
        "# decorator for quantum node\n",
        "@qml.qnode(dev)\n",
        "def circuit(phi=None):\n",
        "    # Encoding\n",
        "    for j in range(4):\n",
        "        qml.RY(np.pi * phi[j], wires=j)\n",
        "\n",
        "    # Random quantum circuit generation\n",
        "    RandomLayers(rand_params, wires=list(range(4)))\n",
        "\n",
        "    # Measurement producing 4 classical output values\n",
        "    return [qml.expval(qml.PauliZ(j)) for j in range(4)]\n",
        "\n"
      ],
      "execution_count": null,
      "outputs": []
    },
    {
      "cell_type": "code",
      "metadata": {
        "id": "BLCArBaDA53j",
        "colab_type": "code",
        "colab": {}
      },
      "source": [
        "def quan_filter(image):\n",
        "\n",
        "    # 2x2 filter with stride 1 and passes the data through the quantum circuit\n",
        "    # the output of the qunatum ciruit is 4 that is mapped into 4 different channels indicating the same pixel\n",
        "    out = np.zeros((14, 14, 4))\n",
        "\n",
        "    # steps of 2\n",
        "    for j in range(0, 28, 2):\n",
        "        for k in range(0, 28, 2):\n",
        "          # The cicuit remains the same because the uniform random sampling is done only once\n",
        "            q_results = circuit(phi=[image[j, k, 0], image[j, k + 1, 0], image[j + 1, k, 0], image[j + 1, k + 1, 0]])\n",
        "            # appropriate expectation value is assigned to right channel\n",
        "            for c in range(4):\n",
        "                out[j // 2, k // 2, c] = q_results[c]\n",
        "    return out"
      ],
      "execution_count": null,
      "outputs": []
    },
    {
      "cell_type": "markdown",
      "metadata": {
        "id": "JeinFeO9E1PZ",
        "colab_type": "text"
      },
      "source": [
        "The experiment does not modify the paramters of the quantum circuit"
      ]
    },
    {
      "cell_type": "code",
      "metadata": {
        "id": "tRyYFdSQEtEk",
        "colab_type": "code",
        "colab": {
          "base_uri": "https://localhost:8080/",
          "height": 1000
        },
        "outputId": "5d8c1c18-e4d7-481e-ddda-1346bea00872"
      },
      "source": [
        "q_train_images = list()\n",
        "print(\"Quantum pre-processing of train images:\")\n",
        "for idx, img in enumerate(train_images):\n",
        "  print(\"{}/{}        \".format(idx + 1, n_train))\n",
        "  q_train_images.append(quan_filter(img))\n",
        "q_train_images = np.asarray(q_train_images)\n",
        "\n",
        "q_test_images = list()\n",
        "print(\"\\nQuantum pre-processing of test images:\")\n",
        "for idx, img in enumerate(test_images):\n",
        "  print(\"{}/{}        \".format(idx + 1, n_test))\n",
        "  q_test_images.append(quan_filter(img))\n",
        "q_test_images = np.asarray(q_test_images)\n"
      ],
      "execution_count": null,
      "outputs": [
        {
          "output_type": "stream",
          "text": [
            "Quantum pre-processing of train images:\n",
            "1/50        \n",
            "2/50        \n",
            "3/50        \n",
            "4/50        \n",
            "5/50        \n",
            "6/50        \n",
            "7/50        \n",
            "8/50        \n",
            "9/50        \n",
            "10/50        \n",
            "11/50        \n",
            "12/50        \n",
            "13/50        \n",
            "14/50        \n",
            "15/50        \n",
            "16/50        \n",
            "17/50        \n",
            "18/50        \n",
            "19/50        \n",
            "20/50        \n",
            "21/50        \n",
            "22/50        \n",
            "23/50        \n",
            "24/50        \n",
            "25/50        \n",
            "26/50        \n",
            "27/50        \n",
            "28/50        \n",
            "29/50        \n",
            "30/50        \n",
            "31/50        \n",
            "32/50        \n",
            "33/50        \n",
            "34/50        \n",
            "35/50        \n",
            "36/50        \n",
            "37/50        \n",
            "38/50        \n",
            "39/50        \n",
            "40/50        \n",
            "41/50        \n",
            "42/50        \n",
            "43/50        \n",
            "44/50        \n",
            "45/50        \n",
            "46/50        \n",
            "47/50        \n",
            "48/50        \n",
            "49/50        \n",
            "50/50        \n",
            "\n",
            "Quantum pre-processing of test images:\n",
            "1/10        \n",
            "2/10        \n",
            "3/10        \n",
            "4/10        \n",
            "5/10        \n",
            "6/10        \n",
            "7/10        \n",
            "8/10        \n",
            "9/10        \n",
            "10/10        \n"
          ],
          "name": "stdout"
        }
      ]
    },
    {
      "cell_type": "markdown",
      "metadata": {
        "id": "6g3Gux-XIXic",
        "colab_type": "text"
      },
      "source": [
        "Classical Model "
      ]
    },
    {
      "cell_type": "code",
      "metadata": {
        "id": "XaEc3dR7FT5I",
        "colab_type": "code",
        "colab": {}
      },
      "source": [
        "model = keras.models.Sequential([\n",
        "        keras.layers.Flatten(),\n",
        "        keras.layers.Dense(10, activation=\"softmax\")\n",
        "    ])\n",
        "\n",
        "model.compile(\n",
        "        optimizer=keras.optimizers.SGD(learning_rate=lr),\n",
        "        loss=\"sparse_categorical_crossentropy\",\n",
        "        metrics=[\"accuracy\"],\n",
        "    )"
      ],
      "execution_count": null,
      "outputs": []
    },
    {
      "cell_type": "code",
      "metadata": {
        "id": "LY2VtI3_IjvB",
        "colab_type": "code",
        "colab": {
          "base_uri": "https://localhost:8080/",
          "height": 1000
        },
        "outputId": "8074d070-305b-45b9-b150-037731216272"
      },
      "source": [
        "model.fit(q_train_images,\n",
        "    train_labels,\n",
        "    validation_data=(q_test_images, test_labels),\n",
        "    batch_size=4,\n",
        "    epochs=n_epochs,\n",
        "    verbose=2,\n",
        "    )"
      ],
      "execution_count": null,
      "outputs": [
        {
          "output_type": "stream",
          "text": [
            "Epoch 1/30\n",
            "13/13 - 0s - loss: 8.2076 - accuracy: 0.0600 - val_loss: 8.5833 - val_accuracy: 0.3000\n",
            "Epoch 2/30\n",
            "13/13 - 0s - loss: 3.8927 - accuracy: 0.3400 - val_loss: 8.2895 - val_accuracy: 0.1000\n",
            "Epoch 3/30\n",
            "13/13 - 0s - loss: 3.6108 - accuracy: 0.3800 - val_loss: 3.4312 - val_accuracy: 0.5000\n",
            "Epoch 4/30\n",
            "13/13 - 0s - loss: 0.3983 - accuracy: 0.9000 - val_loss: 0.8217 - val_accuracy: 0.7000\n",
            "Epoch 5/30\n",
            "13/13 - 0s - loss: 0.1254 - accuracy: 0.9600 - val_loss: 1.6893 - val_accuracy: 0.4000\n",
            "Epoch 6/30\n",
            "13/13 - 0s - loss: 0.0598 - accuracy: 1.0000 - val_loss: 0.8443 - val_accuracy: 0.8000\n",
            "Epoch 7/30\n",
            "13/13 - 0s - loss: 0.0223 - accuracy: 1.0000 - val_loss: 0.7490 - val_accuracy: 0.8000\n",
            "Epoch 8/30\n",
            "13/13 - 0s - loss: 0.0184 - accuracy: 1.0000 - val_loss: 0.7137 - val_accuracy: 0.8000\n",
            "Epoch 9/30\n",
            "13/13 - 0s - loss: 0.0180 - accuracy: 1.0000 - val_loss: 0.7414 - val_accuracy: 0.8000\n",
            "Epoch 10/30\n",
            "13/13 - 0s - loss: 0.0160 - accuracy: 1.0000 - val_loss: 0.7242 - val_accuracy: 0.8000\n",
            "Epoch 11/30\n",
            "13/13 - 0s - loss: 0.0150 - accuracy: 1.0000 - val_loss: 0.7566 - val_accuracy: 0.8000\n",
            "Epoch 12/30\n",
            "13/13 - 0s - loss: 0.0148 - accuracy: 1.0000 - val_loss: 0.7245 - val_accuracy: 0.8000\n",
            "Epoch 13/30\n",
            "13/13 - 0s - loss: 0.0140 - accuracy: 1.0000 - val_loss: 0.7320 - val_accuracy: 0.8000\n",
            "Epoch 14/30\n",
            "13/13 - 0s - loss: 0.0131 - accuracy: 1.0000 - val_loss: 0.7350 - val_accuracy: 0.8000\n",
            "Epoch 15/30\n",
            "13/13 - 0s - loss: 0.0127 - accuracy: 1.0000 - val_loss: 0.7561 - val_accuracy: 0.8000\n",
            "Epoch 16/30\n",
            "13/13 - 0s - loss: 0.0121 - accuracy: 1.0000 - val_loss: 0.7372 - val_accuracy: 0.8000\n",
            "Epoch 17/30\n",
            "13/13 - 0s - loss: 0.0116 - accuracy: 1.0000 - val_loss: 0.7226 - val_accuracy: 0.8000\n",
            "Epoch 18/30\n",
            "13/13 - 0s - loss: 0.0110 - accuracy: 1.0000 - val_loss: 0.6977 - val_accuracy: 0.8000\n",
            "Epoch 19/30\n",
            "13/13 - 0s - loss: 0.0107 - accuracy: 1.0000 - val_loss: 0.7321 - val_accuracy: 0.8000\n",
            "Epoch 20/30\n",
            "13/13 - 0s - loss: 0.0105 - accuracy: 1.0000 - val_loss: 0.7009 - val_accuracy: 0.8000\n",
            "Epoch 21/30\n",
            "13/13 - 0s - loss: 0.0104 - accuracy: 1.0000 - val_loss: 0.7260 - val_accuracy: 0.8000\n",
            "Epoch 22/30\n",
            "13/13 - 0s - loss: 0.0099 - accuracy: 1.0000 - val_loss: 0.7191 - val_accuracy: 0.8000\n",
            "Epoch 23/30\n",
            "13/13 - 0s - loss: 0.0095 - accuracy: 1.0000 - val_loss: 0.7271 - val_accuracy: 0.8000\n",
            "Epoch 24/30\n",
            "13/13 - 0s - loss: 0.0093 - accuracy: 1.0000 - val_loss: 0.7179 - val_accuracy: 0.8000\n",
            "Epoch 25/30\n",
            "13/13 - 0s - loss: 0.0090 - accuracy: 1.0000 - val_loss: 0.7263 - val_accuracy: 0.8000\n",
            "Epoch 26/30\n",
            "13/13 - 0s - loss: 0.0089 - accuracy: 1.0000 - val_loss: 0.7036 - val_accuracy: 0.8000\n",
            "Epoch 27/30\n",
            "13/13 - 0s - loss: 0.0086 - accuracy: 1.0000 - val_loss: 0.6987 - val_accuracy: 0.8000\n",
            "Epoch 28/30\n",
            "13/13 - 0s - loss: 0.0084 - accuracy: 1.0000 - val_loss: 0.7258 - val_accuracy: 0.8000\n",
            "Epoch 29/30\n",
            "13/13 - 0s - loss: 0.0083 - accuracy: 1.0000 - val_loss: 0.7102 - val_accuracy: 0.8000\n",
            "Epoch 30/30\n",
            "13/13 - 0s - loss: 0.0079 - accuracy: 1.0000 - val_loss: 0.7101 - val_accuracy: 0.8000\n"
          ],
          "name": "stdout"
        },
        {
          "output_type": "execute_result",
          "data": {
            "text/plain": [
              "<tensorflow.python.keras.callbacks.History at 0x7ff4581aa668>"
            ]
          },
          "metadata": {
            "tags": []
          },
          "execution_count": 28
        }
      ]
    },
    {
      "cell_type": "code",
      "metadata": {
        "id": "bylFl5z9I2gP",
        "colab_type": "code",
        "colab": {}
      },
      "source": [
        ""
      ],
      "execution_count": null,
      "outputs": []
    }
  ]
}